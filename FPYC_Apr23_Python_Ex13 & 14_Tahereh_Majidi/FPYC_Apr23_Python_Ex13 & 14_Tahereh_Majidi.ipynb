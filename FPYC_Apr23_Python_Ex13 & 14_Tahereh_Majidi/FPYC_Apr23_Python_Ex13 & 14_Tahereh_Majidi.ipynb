{
 "cells": [
  {
   "attachments": {},
   "cell_type": "markdown",
   "metadata": {},
   "source": [
    "<div>\n",
    "<h2 style=\"background-color:Purple;text-align:center;border-radius:40px;border: 1px;padding: 20px; color:white\"><b>Filoger Hands On Prerequisite Python For AI <br>Exercises 13 & 14 | Deadline: 2023 23 May <br> Score: 800</h2>\n",
    "</div>"
   ]
  },
  {
   "attachments": {},
   "cell_type": "markdown",
   "metadata": {},
   "source": [
    "# Name"
   ]
  },
  {
   "attachments": {},
   "cell_type": "markdown",
   "metadata": {},
   "source": []
  },
  {
   "attachments": {},
   "cell_type": "markdown",
   "metadata": {},
   "source": [
    "# Tahereh, Majidi"
   ]
  },
  {
   "attachments": {},
   "cell_type": "markdown",
   "metadata": {},
   "source": [
    "<h3 style=\"background-color:#ff3300\n",
    ";text-align:center;border-radius:40px;border: 1px;padding: 10px;color:white\"><b>Exercises 13<br>Score: 500</h3>"
   ]
  },
  {
   "attachments": {},
   "cell_type": "markdown",
   "metadata": {},
   "source": [
    "<h5 style=\"background-color:#1765e3;text-align:left;border-radius:40px;border: 1px;padding: 10px;color:white\"><b>1- Create a class Rectangle with attributes length and width and methods area(), perimeter()\n",
    "and display() for show length and width. Test your class by creating two objects and call\n",
    "attributes and methods for this objects.</h5>"
   ]
  },
  {
   "cell_type": "code",
   "execution_count": 12,
   "metadata": {},
   "outputs": [],
   "source": [
    "class Rectangle:\n",
    "    def __init__(self,length,width):\n",
    "        self.length=length\n",
    "        self.width=width\n",
    "    def  area(self):\n",
    "        s=self.length*self.width\n",
    "        return s\n",
    "    def perimeter(self):\n",
    "        p = 2*(self.length+self.width)\n",
    "        return p  \n",
    "    def display(self) :\n",
    "        print(f\"The length is====> {self.length} \")\n",
    "        print(f\"The width is====> {self.width} \")\n",
    "\n",
    "         \n"
   ]
  },
  {
   "cell_type": "code",
   "execution_count": 18,
   "metadata": {},
   "outputs": [
    {
     "data": {
      "text/plain": [
       "6"
      ]
     },
     "execution_count": 18,
     "metadata": {},
     "output_type": "execute_result"
    }
   ],
   "source": [
    "object1=Rectangle(6,8)\n",
    "object2=Rectangle(10,20)\n",
    "\n"
   ]
  },
  {
   "cell_type": "code",
   "execution_count": 27,
   "metadata": {},
   "outputs": [
    {
     "data": {
      "text/plain": [
       "6"
      ]
     },
     "execution_count": 27,
     "metadata": {},
     "output_type": "execute_result"
    }
   ],
   "source": [
    "# call the attributes for  object2\n",
    "object1.length\n",
    "\n",
    "\n"
   ]
  },
  {
   "cell_type": "code",
   "execution_count": 28,
   "metadata": {},
   "outputs": [
    {
     "data": {
      "text/plain": [
       "8"
      ]
     },
     "execution_count": 28,
     "metadata": {},
     "output_type": "execute_result"
    }
   ],
   "source": [
    "object1.width"
   ]
  },
  {
   "cell_type": "code",
   "execution_count": 30,
   "metadata": {},
   "outputs": [
    {
     "data": {
      "text/plain": [
       "10"
      ]
     },
     "execution_count": 30,
     "metadata": {},
     "output_type": "execute_result"
    }
   ],
   "source": [
    "# call the attributes for  object2\n",
    "object2.length\n"
   ]
  },
  {
   "cell_type": "code",
   "execution_count": 29,
   "metadata": {},
   "outputs": [
    {
     "data": {
      "text/plain": [
       "20"
      ]
     },
     "execution_count": 29,
     "metadata": {},
     "output_type": "execute_result"
    }
   ],
   "source": [
    "object2.width"
   ]
  },
  {
   "cell_type": "code",
   "execution_count": 22,
   "metadata": {},
   "outputs": [
    {
     "name": "stdout",
     "output_type": "stream",
     "text": [
      "Area of object1: 48\n",
      "Area of object2: 200\n"
     ]
    }
   ],
   "source": [
    "# call the area method for each object\n",
    "print(\"Area of object1:\", object1.area())\n",
    "print(\"Area of object2:\", object2.area())\n"
   ]
  },
  {
   "cell_type": "code",
   "execution_count": 23,
   "metadata": {},
   "outputs": [
    {
     "name": "stdout",
     "output_type": "stream",
     "text": [
      "Perimeter of object1: 28\n",
      "Perimeter of bject2: 60\n"
     ]
    }
   ],
   "source": [
    "\n",
    "# call the perimeter method for each object\n",
    "print(\"Perimeter of object1:\", object1.perimeter())\n",
    "print(\"Perimeter of bject2:\", object2.perimeter())"
   ]
  },
  {
   "cell_type": "code",
   "execution_count": 24,
   "metadata": {},
   "outputs": [
    {
     "name": "stdout",
     "output_type": "stream",
     "text": [
      "object1:\n",
      "The length is====> 6 \n",
      "The width is====> 8 \n",
      "object2:\n",
      "The length is====> 10 \n",
      "The width is====> 20 \n"
     ]
    }
   ],
   "source": [
    "# call the display method for each object\n",
    "print(\"object1:\")\n",
    "object1.display()\n",
    "print(\"object2:\")\n",
    "object2.display()"
   ]
  },
  {
   "attachments": {},
   "cell_type": "markdown",
   "metadata": {},
   "source": [
    "<h5 style=\"background-color:#1765e3;text-align:left;border-radius:40px;border: 1px;padding: 10px;color:white\"><b>2- Create a BankAccount class with 4 attributes and 4 methods as a following.\n",
    "Attributes:\n",
    "account_number, account_type, holder_name, balance\n",
    "Methods:\n",
    "deposite(amount) : get an amount and adds it to the account balance.\n",
    "withdraw(amount): get an amount and subtracts it from the account balance.\n",
    "get_balance(): show only current balance\n",
    "get_all_info(): show all attributes.</h5>"
   ]
  },
  {
   "cell_type": "code",
   "execution_count": 22,
   "metadata": {},
   "outputs": [],
   "source": [
    "class BankAccount:\n",
    "    def __init__(self,account_number, account_type,holder_name,balance):\n",
    "        self.account_number=account_number\n",
    "        self.account_type=account_type\n",
    "        self.holder_name=holder_name\n",
    "        self.balance=balance\n",
    "    def deposite(self,amount):\n",
    "        self.balance+= amount\n",
    "        print(f\"Deposited {amount} successfully. New balance is {self.balance}.\")\n",
    "    def withdraw(self,amount):\n",
    "        if amount>self.balance:\n",
    "            print(\"Insufficient balance.\")\n",
    "        else:\n",
    "\n",
    "            self.balance-= amount\n",
    "            print(f\"Withdrawn {amount} successfully. New balance is {self.balance}.\")\n",
    "    def get_balance(self):\n",
    "        print(f\"The current balance is {self.balance}\")\n",
    "    def get_all_info(self):\n",
    "        print(f\"Account number: {self.account_number}\")\n",
    "        print(f\"Account type: {self.account_type}\")\n",
    "        print(f\"Account holder: {self.holder_name}\")\n",
    "        print(f\"Account balance: {self.balance}\")\n",
    "\n",
    "\n",
    "      "
   ]
  },
  {
   "cell_type": "code",
   "execution_count": 23,
   "metadata": {},
   "outputs": [],
   "source": [
    "object1=BankAccount(\"0123456\",\"Savings\",\"David Swift \",1100000)\n"
   ]
  },
  {
   "cell_type": "code",
   "execution_count": 24,
   "metadata": {},
   "outputs": [
    {
     "name": "stdout",
     "output_type": "stream",
     "text": [
      "Deposited 600 successfully. New balance is 1100600.\n"
     ]
    }
   ],
   "source": [
    "object1.deposite(600)"
   ]
  },
  {
   "cell_type": "code",
   "execution_count": 25,
   "metadata": {},
   "outputs": [
    {
     "name": "stdout",
     "output_type": "stream",
     "text": [
      "Withdrawn 8000 successfully. New balance is 1092600.\n"
     ]
    }
   ],
   "source": [
    "object1.withdraw(8000)"
   ]
  },
  {
   "cell_type": "code",
   "execution_count": 26,
   "metadata": {},
   "outputs": [
    {
     "name": "stdout",
     "output_type": "stream",
     "text": [
      "The current balance is 1092600\n"
     ]
    }
   ],
   "source": [
    "object1.get_balance()"
   ]
  },
  {
   "cell_type": "code",
   "execution_count": 27,
   "metadata": {},
   "outputs": [
    {
     "name": "stdout",
     "output_type": "stream",
     "text": [
      "Account number: 0123456\n",
      "Account type: Savings\n",
      "Account holder: David Swift \n",
      "Account balance: 1092600\n"
     ]
    }
   ],
   "source": [
    "object1.get_all_info()"
   ]
  },
  {
   "attachments": {},
   "cell_type": "markdown",
   "metadata": {},
   "source": [
    "<h3 style=\"background-color:#ff3300\n",
    ";text-align:center;border-radius:40px;border: 1px;padding: 10px;color:white\"><b>Exercises 14<br>Score: 300</h3>"
   ]
  },
  {
   "attachments": {},
   "cell_type": "markdown",
   "metadata": {},
   "source": [
    "<h5 style=\"background-color:#1765e3;text-align:left;border-radius:40px;border: 1px;padding: 10px;color:white\"><b>1- Write a program such as CartShopping problem, but for book and library. Create\n",
    "two classes one of them for book and another for library, add some attributes and\n",
    "some methods for this classes. This program should be add book in library and\n",
    "display all of book.</h5>"
   ]
  },
  {
   "cell_type": "code",
   "execution_count": 2,
   "metadata": {},
   "outputs": [],
   "source": [
    "class Book:\n",
    "    def __init__(self,b_id,title,number,author):\n",
    "        self.b_id=b_id\n",
    "        self.title=title\n",
    "        self.number=number\n",
    "        self.author=author\n",
    "    def get_title(self):\n",
    "        print(f\"title of book: {self.title}\")   \n",
    "    def total_number(self):\n",
    "        print(f\"number of book: {self.number}\") \n",
    "    def get_all_info(self):\n",
    "        print(f\"title of book: {self.title}\")\n",
    "        print(f\"b_id of {self.title}: {self.b_id}\")   \n",
    "        print(f\"number of {self.title}: {self.number}\")\n",
    "        print(f\"author of {self.title}: {self.author}\")  \n",
    "        print(\"-\"*50)     "
   ]
  },
  {
   "cell_type": "code",
   "execution_count": 3,
   "metadata": {},
   "outputs": [],
   "source": [
    "class Library:\n",
    "    def __init__(self):\n",
    "        self.books=[]\n",
    "    def find_index(self,id) :\n",
    "        for i,item in enumerate(self.books):\n",
    "            if item.b_id==id:\n",
    "                return i\n",
    "\n",
    "        return -1 \n",
    "\n",
    "    def add_book(self,book):\n",
    "        index=self.find_index(book.b_id)\n",
    "        if index==-1:\n",
    "            self.books.append(book)\n",
    "            print(\"added\")\n",
    "        else:\n",
    "            print(\"book with p_id={book.b_id} exist\")   \n",
    "    def display(self) :\n",
    "        for b in self.books:        \n",
    "            Book.get_all_info(b) "
   ]
  },
  {
   "cell_type": "code",
   "execution_count": 4,
   "metadata": {},
   "outputs": [
    {
     "name": "stdout",
     "output_type": "stream",
     "text": [
      "added\n",
      "add : command not found!\n",
      "2 dog 2 sara: command not found!\n"
     ]
    }
   ],
   "source": [
    "#create a library object and add/display the books\n",
    "object1=Library()\n",
    "while True: \n",
    "    user=input(\"Please select an option:   add/display/exit \")\n",
    "    user=user.lower()\n",
    "    if user==\"add\":\n",
    "        book_info=input(\"enter info of your book: \")\n",
    "        info=book_info.split()\n",
    "        b1=Book(info[0],info[1],int(info[2]),info[3])\n",
    "        object1.add_book(b1)\n",
    "    elif user==\"display\":\n",
    "        object1.display()\n",
    "    elif user==\"\":\n",
    "        pass\n",
    "    elif user==\"exit\":\n",
    "        break\n",
    "    else:\n",
    "        print(f\"{user}: command not found!\")  "
   ]
  }
 ],
 "metadata": {
  "kernelspec": {
   "display_name": "base",
   "language": "python",
   "name": "python3"
  },
  "language_info": {
   "codemirror_mode": {
    "name": "ipython",
    "version": 3
   },
   "file_extension": ".py",
   "mimetype": "text/x-python",
   "name": "python",
   "nbconvert_exporter": "python",
   "pygments_lexer": "ipython3",
   "version": "3.9.13"
  },
  "orig_nbformat": 4
 },
 "nbformat": 4,
 "nbformat_minor": 2
}
