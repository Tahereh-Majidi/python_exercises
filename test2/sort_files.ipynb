{
 "cells": [
  {
   "cell_type": "code",
   "execution_count": 21,
   "metadata": {},
   "outputs": [],
   "source": [
    "import os\n",
    "import glob"
   ]
  },
  {
   "cell_type": "code",
   "execution_count": 22,
   "metadata": {},
   "outputs": [],
   "source": [
    "def creat_folders(exts):\n",
    "   for i in exts:\n",
    "      os.makedirs(f\"folder_{i}\")\n",
    "       "
   ]
  },
  {
   "cell_type": "code",
   "execution_count": 27,
   "metadata": {},
   "outputs": [],
   "source": [
    "def move_files(list_of_files):# / dakhel \n",
    "    for i in list_of_files:#i=test.py+====>folder_py/\n",
    "        ext=i.split(\".\")#ext=[\"test\",\"py\"]\n",
    "        ext=ext[-1].lower()#ext=\"py\"\n",
    "        os.rename(i,f\"folder_{ext}/{i}\")#folder_{py}/test.py  \n",
    "        #i mikhahim jayash ra taghir dahim\n",
    "         # va koja mikhahi bezari\n",
    "         #vijhegi rename\n"
   ]
  },
  {
   "cell_type": "code",
   "execution_count": 23,
   "metadata": {},
   "outputs": [
    {
     "data": {
      "text/plain": [
       "['20220815_195442.jpg',\n",
       " 'FPYC_Apr23_Python_Ex01_Ex02_Tahereh_Majidi.zip',\n",
       " 'FPYC_Apr23_Python_Ex08_Tahereh_Majidi.ipynb',\n",
       " 'FPYC_May23_Python_Ex05_Tahereh_Majidi.ipynb',\n",
       " 'FPYC_May23_Python_Ex06_Tahereh_Majidi.py',\n",
       " 'funproj.py',\n",
       " 'Git and GitHub.pdf',\n",
       " 'IMG-20210721-WA0041.jpg',\n",
       " 'project1.ipynb',\n",
       " 'sort_files.ipynb']"
      ]
     },
     "execution_count": 23,
     "metadata": {},
     "output_type": "execute_result"
    }
   ],
   "source": [
    "#step 1\n",
    "list_of_files=glob.glob(\"*\")\n",
    "list_of_files "
   ]
  },
  {
   "cell_type": "code",
   "execution_count": 24,
   "metadata": {},
   "outputs": [
    {
     "name": "stdout",
     "output_type": "stream",
     "text": [
      "{'zip', 'ipynb', 'pdf', 'py', 'jpg'}\n"
     ]
    }
   ],
   "source": [
    "#step 2\n",
    "exts=set()\n",
    "for i in list_of_files:\n",
    "    ext=i.split(\".\")\n",
    "    exts.add(ext[-1])\n",
    "print(exts)    \n",
    "\n",
    "\n"
   ]
  },
  {
   "cell_type": "code",
   "execution_count": 25,
   "metadata": {},
   "outputs": [],
   "source": [
    "#step 3\n",
    "creat_folders(exts)"
   ]
  },
  {
   "cell_type": "code",
   "execution_count": 28,
   "metadata": {},
   "outputs": [],
   "source": [
    "#step 4\n",
    "move_files(list_of_files)"
   ]
  }
 ],
 "metadata": {
  "kernelspec": {
   "display_name": "base",
   "language": "python",
   "name": "python3"
  },
  "language_info": {
   "codemirror_mode": {
    "name": "ipython",
    "version": 3
   },
   "file_extension": ".py",
   "mimetype": "text/x-python",
   "name": "python",
   "nbconvert_exporter": "python",
   "pygments_lexer": "ipython3",
   "version": "3.9.13"
  },
  "orig_nbformat": 4
 },
 "nbformat": 4,
 "nbformat_minor": 2
}
