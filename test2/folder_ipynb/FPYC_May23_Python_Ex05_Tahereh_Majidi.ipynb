{
 "cells": [
  {
   "attachments": {},
   "cell_type": "markdown",
   "metadata": {},
   "source": [
    "# Question 1 (List)"
   ]
  },
  {
   "cell_type": "code",
   "execution_count": 6,
   "metadata": {},
   "outputs": [
    {
     "name": "stdout",
     "output_type": "stream",
     "text": [
      "First item of the list is 2 and last item of the list is 10\n",
      "[15, 0, 'python', 4.6, 'java', 90]\n",
      "[15, 0, 'python', 4.6, 'java']\n",
      "[15, 5, 0, 'python', 4.6, 'java']\n",
      "[15, 5, 0, 'Js', 4.6, 'java']\n",
      "[15, 5, 0, 'Js', 4.6, 'java', 50]\n",
      "yes\n"
     ]
    }
   ],
   "source": [
    "#1\n",
    "my_list = [2, 15, 0,\"python\", 4.6,\"java\",90, 10]\n",
    "print(f\"First item of the list is {my_list[0]} and last item of the list is {my_list[-1]}\")\n",
    "\n",
    "\n",
    "#2\n",
    "my_list.pop(0)\n",
    "my_list.pop(-1)\n",
    "print(my_list)\n",
    "\n",
    "#3\n",
    "\n",
    "my_list.remove(90)\n",
    "print(my_list)\n",
    "#ValueError: list.remove(300): 300 not in list\n",
    "\n",
    "#4\n",
    "my_list.insert(1,5)\n",
    "print(my_list)\n",
    "\n",
    "\n",
    "#5\n",
    "my_list[3]='Js'\n",
    "print(my_list)\n",
    "\n",
    "#6\n",
    "my_list.append(50)\n",
    "print(my_list)\n",
    "\n",
    "#7\n",
    "my_list = [2, 15, 0,\"python\", 4.6,\"java\",90, 10]\n",
    "if 0 in my_list:\n",
    "    print(\"yes\")\n",
    "else: \n",
    "    print(\"no\")   "
   ]
  },
  {
   "attachments": {},
   "cell_type": "markdown",
   "metadata": {},
   "source": [
    "# Question 2 (List)"
   ]
  },
  {
   "cell_type": "code",
   "execution_count": 9,
   "metadata": {},
   "outputs": [
    {
     "name": "stdout",
     "output_type": "stream",
     "text": [
      "['2', '.', '0', '=', '?']\n",
      "[2, '.', 0, '=', '?']\n",
      "not found\n"
     ]
    }
   ],
   "source": [
    "Sample=input(\"Enter: \")\n",
    "list=Sample.split()\n",
    "print(list)\n",
    "list[0]=int(list[0])\n",
    "list[2]=int(list[2])\n",
    "print(list)\n",
    "if list[1] in [\"+\",\"-\",\"*\",\"/\"]:\n",
    "   if list[1]==\"+\": # 2 + 3 = ?\n",
    "      list[4]=list[0]+list[2]\n",
    "   \n",
    "\n",
    "\n",
    "   elif   list[1]==\"-\":   # 2 - 3 = ?\n",
    "      list[4]=list[0]-list[2]\n",
    "  \n",
    "\n",
    "\n",
    "   elif  list[1]==\"*\":   #2 * 3 = ?\n",
    "      list[4]=list[0]*list[2]\n",
    "   \n",
    "\n",
    "\n",
    "   elif  list[1]==\"/\" and list[2]!=0:  #5 / 2 = ? 2 / 0 = ?\n",
    "         list[4] = list[0] / list[2]\n",
    "   elif list[1]==\"/\":\n",
    "         list[4]=\"Error\"       \n",
    "   print(f\"{list[0]} {list[1]} {list[2]} = {list[4]}\")\n",
    "else:\n",
    "    print(\"not found\")   \n",
    "\n",
    "\n",
    "\n"
   ]
  },
  {
   "attachments": {},
   "cell_type": "markdown",
   "metadata": {},
   "source": [
    "# Question 3 (List)"
   ]
  },
  {
   "cell_type": "code",
   "execution_count": 40,
   "metadata": {},
   "outputs": [
    {
     "name": "stdout",
     "output_type": "stream",
     "text": [
      "[2, 34, 18]\n"
     ]
    }
   ],
   "source": [
    "List1 = [ 12, 2, 34, 10, 4, 18, 10]\n",
    "List2 = [12, 100, 10, 4, 5, 50]\n",
    "List3=[]\n",
    "for i in List1:\n",
    "    if i not in List2:\n",
    "        List3.append(i)    \n",
    "print(List3)        \n"
   ]
  },
  {
   "attachments": {},
   "cell_type": "markdown",
   "metadata": {},
   "source": [
    "# Question 4 (List)"
   ]
  },
  {
   "cell_type": "code",
   "execution_count": 60,
   "metadata": {},
   "outputs": [
    {
     "name": "stdout",
     "output_type": "stream",
     "text": [
      "1.5 is minimum in Numbers\n"
     ]
    }
   ],
   "source": [
    "Numbers = [10, 20, 20, 12, 30, 45, 2.4, 1.5]\n",
    "#min\n",
    "min_Numbers=Numbers[0]\n",
    "for i in Numbers:\n",
    "    if i<min_Numbers:\n",
    "        min_Numbers=i\n",
    "print(f\"{min_Numbers} is minimum in Numbers\")  \n",
    "\n",
    "\n",
    "\n",
    "     "
   ]
  },
  {
   "cell_type": "code",
   "execution_count": 17,
   "metadata": {},
   "outputs": [
    {
     "name": "stdout",
     "output_type": "stream",
     "text": [
      "45 is maximum in Numbers\n"
     ]
    }
   ],
   "source": [
    "#MaX\n",
    "Numbers = [10, 20, 20, 12, 30, 45, 2.4, 1.5]\n",
    "max_Numbers=Numbers[0]\n",
    "for i in Numbers:\n",
    "    if i> max_Numbers:\n",
    "        max_Numbers=i\n",
    "print(f\"{max_Numbers} is maximum in Numbers\")  "
   ]
  },
  {
   "cell_type": "code",
   "execution_count": 65,
   "metadata": {},
   "outputs": [
    {
     "name": "stdout",
     "output_type": "stream",
     "text": [
      "140.9\n"
     ]
    }
   ],
   "source": [
    "#sum\n",
    "Numbers = [10, 20, 20, 12, 30, 45, 2.4, 1.5]\n",
    "Numbers_sum=sum(Numbers)\n",
    "print(Numbers_sum)"
   ]
  },
  {
   "cell_type": "code",
   "execution_count": 69,
   "metadata": {},
   "outputs": [
    {
     "name": "stdout",
     "output_type": "stream",
     "text": [
      "Average is 17.6125\n"
     ]
    }
   ],
   "source": [
    "#Average\n",
    "Numbers = [10, 20, 20, 12, 30, 45, 2.4, 1.5]\n",
    "n=len(Numbers)\n",
    "Numbers_sum=sum(Numbers)\n",
    "Numbers_Average=Numbers_sum/n\n",
    "print(f\"Average is {Numbers_Average}\")"
   ]
  },
  {
   "cell_type": "code",
   "execution_count": 70,
   "metadata": {},
   "outputs": [
    {
     "data": {
      "text/plain": [
       "8"
      ]
     },
     "execution_count": 70,
     "metadata": {},
     "output_type": "execute_result"
    }
   ],
   "source": [
    "#length\n",
    "Numbers = [10, 20, 20, 12, 30, 45, 2.4, 1.5]\n",
    "len(Numbers)"
   ]
  },
  {
   "cell_type": "code",
   "execution_count": 127,
   "metadata": {},
   "outputs": [
    {
     "name": "stdout",
     "output_type": "stream",
     "text": [
      "16.0\n"
     ]
    }
   ],
   "source": [
    "#median\n",
    "Numbers = [10, 20, 20, 12, 30, 45, 2.4, 1.5]\n",
    "Numbers.sort()\n",
    "l=len(Numbers)\n",
    "if l%2==0:\n",
    "    s=l//2\n",
    "    median=(Numbers[s-1]+Numbers[s])/2\n",
    "    print(median)\n",
    "else:\n",
    "   s=l//2\n",
    "   print(Numbers[s])  \n",
    "\n",
    "\n"
   ]
  }
 ],
 "metadata": {
  "kernelspec": {
   "display_name": "Python 3",
   "language": "python",
   "name": "python3"
  },
  "language_info": {
   "codemirror_mode": {
    "name": "ipython",
    "version": 3
   },
   "file_extension": ".py",
   "mimetype": "text/x-python",
   "name": "python",
   "nbconvert_exporter": "python",
   "pygments_lexer": "ipython3",
   "version": "3.9.13"
  },
  "orig_nbformat": 4
 },
 "nbformat": 4,
 "nbformat_minor": 2
}
