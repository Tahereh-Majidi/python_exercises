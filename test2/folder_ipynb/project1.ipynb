{
 "cells": [
  {
   "cell_type": "code",
   "execution_count": 11,
   "metadata": {},
   "outputs": [
    {
     "name": "stdout",
     "output_type": "stream",
     "text": [
      "your task has been successfuly added \n",
      "\n",
      "your task has been successfuly added \n",
      "\n",
      "task_1: sara---->undone\n",
      "task_2: ali---->undone\n",
      "task_1: sara---->undone\n",
      "task_2: ali---->undone\n",
      "task_1: sara---->done\n",
      "task_2: ali---->undone\n",
      "task_1: sara---->done\n",
      "task_2: ali---->done\n",
      "dispaly: command not found!\n"
     ]
    }
   ],
   "source": [
    "tasks=[]  #string\n",
    "status=[]  #boolean\n",
    "#add , remove, edit, search\n",
    "while True:\n",
    "    user=input(\"To-DO List>>> Select one option(add/remove/edit/search/display):\")\n",
    "    if user==\"add\":\n",
    "        task=input(\"Enter your task to add:  \")\n",
    "        if task not in tasks:\n",
    "           tasks.append(task)\n",
    "           status.append(False)\n",
    "           print(\"your task has been successfuly added \\n\")\n",
    "        else:\n",
    "            print(f\"{task}: exist \\n\")\n",
    "    elif  user==\"display\":\n",
    "        #task_1: python ----> done\n",
    "        #True---->done, False---->undone\n",
    "\n",
    "        for i, t in enumerate(tasks):\n",
    "           flag=\"undone\"\n",
    "           if status[i]:\n",
    "               flag=\"done\"\n",
    "           print(f\"task_{i+1}: {t}---->{flag}\")\n",
    "\n",
    "    elif user==\"edit\":\n",
    "        index=int(input(\"index of task: \"))\n",
    "        new_task=input(\"new task: \")\n",
    "        \n",
    "        if new_task not in tasks:\n",
    "            tasks[index-1]=new_task\n",
    "        else:\n",
    "            print(f\"{new_task}: exit\")    \n",
    "\n",
    "    elif user==\"done\":\n",
    "        index=int(input(\"index of task: \"))\n",
    "        status[index-1]=True\n",
    "    elif user==\"remove\":\n",
    "        pass\n",
    "    elif user==\"search\":   \n",
    "        pass\n",
    "    elif user==\"\":\n",
    "        pass\n",
    "    elif user==\"exit\":\n",
    "        break\n",
    "    else:\n",
    "        print(f\"{user}: command not found!\")\n"
   ]
  }
 ],
 "metadata": {
  "kernelspec": {
   "display_name": "Python 3",
   "language": "python",
   "name": "python3"
  },
  "language_info": {
   "codemirror_mode": {
    "name": "ipython",
    "version": 3
   },
   "file_extension": ".py",
   "mimetype": "text/x-python",
   "name": "python",
   "nbconvert_exporter": "python",
   "pygments_lexer": "ipython3",
   "version": "3.10.8"
  },
  "orig_nbformat": 4
 },
 "nbformat": 4,
 "nbformat_minor": 2
}
