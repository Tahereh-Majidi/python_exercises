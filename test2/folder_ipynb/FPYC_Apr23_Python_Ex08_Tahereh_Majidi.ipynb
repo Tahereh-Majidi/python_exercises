{
 "cells": [
  {
   "attachments": {},
   "cell_type": "markdown",
   "metadata": {},
   "source": [
    "# Question 1 (Dictionary)"
   ]
  },
  {
   "cell_type": "code",
   "execution_count": 71,
   "metadata": {},
   "outputs": [],
   "source": [
    "Product={ \"Product code\":  \"001\",\n",
    "           \"Product name\":  \"pencil\",\n",
    "           \"Product price\":  1000,\n",
    "           \"Product quantity\": 50,\n",
    "           \"Product sales branch\": \"Branch 1\",\n",
    "}\n",
    "\n",
    "  \n",
    "  \n",
    "\n",
    "\n",
    "\n"
   ]
  },
  {
   "cell_type": "code",
   "execution_count": 72,
   "metadata": {},
   "outputs": [],
   "source": [
    "Products=[]\n",
    "number=int(input(\"Enter a number products :  \"))\n",
    "for i in range(number):\n",
    "   Product_code=input(\"Enter product code:  \") \n",
    "   Product_name=input(\"Enter product name:  \") \n",
    "   Product_price=int(input(\"Enter product price:  \") )\n",
    "   Product_quantity=int(input(\"Enter   product quantity:   \"))\n",
    "   Product_sales_branch=input(\"Enter product sales branch:   \")\n",
    "   Product={}\n",
    "   Product[\"Product code\"]=Product_code\n",
    "   Product[ \"Product name\"]=Product_name\n",
    "   Product[ \"Product price\"]=Product_price\n",
    "   Product[\"Product quantity\"]= Product_quantity\n",
    "   Product[\"Product sales branch\"]= Product_sales_branch\n",
    "   Products.append(Product)"
   ]
  },
  {
   "cell_type": "code",
   "execution_count": 73,
   "metadata": {},
   "outputs": [
    {
     "data": {
      "text/plain": [
       "[{'Product code': '001',\n",
       "  'Product name': 'pen',\n",
       "  'Product price': 1000,\n",
       "  'Product quantity': 50,\n",
       "  'Product sales branch': 'branch 1'},\n",
       " {'Product code': '002',\n",
       "  'Product name': 'book',\n",
       "  'Product price': 9000,\n",
       "  'Product quantity': 100,\n",
       "  'Product sales branch': 'branch 2'}]"
      ]
     },
     "execution_count": 73,
     "metadata": {},
     "output_type": "execute_result"
    }
   ],
   "source": [
    "Products "
   ]
  },
  {
   "cell_type": "code",
   "execution_count": 74,
   "metadata": {},
   "outputs": [
    {
     "data": {
      "text/plain": [
       "1000"
      ]
     },
     "execution_count": 74,
     "metadata": {},
     "output_type": "execute_result"
    }
   ],
   "source": [
    "Products[0][\"Product price\"] "
   ]
  },
  {
   "cell_type": "code",
   "execution_count": 75,
   "metadata": {},
   "outputs": [
    {
     "name": "stdout",
     "output_type": "stream",
     "text": [
      "[{'Product code': '001', 'Product name': 'pen', 'Product price': 1000, 'Product quantity': 50}, {'Product code': '002', 'Product name': 'book', 'Product price': 9000, 'Product quantity': 100}]\n"
     ]
    }
   ],
   "source": [
    "for product in Products:\n",
    "    product.pop(\"Product sales branch\")\n",
    "print(Products)"
   ]
  },
  {
   "cell_type": "code",
   "execution_count": 76,
   "metadata": {},
   "outputs": [
    {
     "name": "stdout",
     "output_type": "stream",
     "text": [
      "[1000, 9000]\n"
     ]
    }
   ],
   "source": [
    "\n",
    "\n",
    "prices=[]\n",
    "for product in Products:\n",
    "    \n",
    "  prices.append(product['Product price'])\n",
    "prices.sort()\n",
    "print(prices) \n",
    "  \n",
    "   \n",
    "   "
   ]
  },
  {
   "cell_type": "code",
   "execution_count": 77,
   "metadata": {},
   "outputs": [
    {
     "name": "stdout",
     "output_type": "stream",
     "text": [
      "The average of prices: 5000.0\n"
     ]
    }
   ],
   "source": [
    "print(f'The average of prices: {sum(prices)/len(prices)}')"
   ]
  }
 ],
 "metadata": {
  "kernelspec": {
   "display_name": "base",
   "language": "python",
   "name": "python3"
  },
  "language_info": {
   "codemirror_mode": {
    "name": "ipython",
    "version": 3
   },
   "file_extension": ".py",
   "mimetype": "text/x-python",
   "name": "python",
   "nbconvert_exporter": "python",
   "pygments_lexer": "ipython3",
   "version": "3.9.13"
  },
  "orig_nbformat": 4
 },
 "nbformat": 4,
 "nbformat_minor": 2
}
