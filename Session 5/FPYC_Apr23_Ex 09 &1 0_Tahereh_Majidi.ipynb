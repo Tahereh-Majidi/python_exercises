{
 "cells": [
  {
   "attachments": {},
   "cell_type": "markdown",
   "metadata": {},
   "source": [
    "<div>\n",
    "<h2 style=\"background-color:Purple;text-align:center;border-radius:40px;border: 1px;padding: 20px; color:white\"><b>Filoger Hands On Prerequisite Python For AI <br>Exercises 09 & 010 | Deadline: 2023 9 May <br> Score: 700</h2>\n",
    "</div>"
   ]
  },
  {
   "attachments": {},
   "cell_type": "markdown",
   "metadata": {},
   "source": [
    "# Name"
   ]
  },
  {
   "cell_type": "code",
   "execution_count": null,
   "metadata": {},
   "outputs": [],
   "source": [
    "# Tahereh, Majidi\n"
   ]
  },
  {
   "attachments": {},
   "cell_type": "markdown",
   "metadata": {},
   "source": [
    "<h3 style=\"background-color:#ff3300\n",
    ";text-align:center;border-radius:40px;border: 1px;padding: 10px;color:white\"><b>Exercises 09<br>Score: 550</h3>"
   ]
  },
  {
   "attachments": {},
   "cell_type": "markdown",
   "metadata": {},
   "source": [
    "<h5 style=\"background-color:#1765e3;text-align:left;border-radius:40px;border: 1px;padding: 10px;color:white\"><b>1- Based on some examples (code), show the difference between list and tuple(50)</h5>"
   ]
  },
  {
   "cell_type": "code",
   "execution_count": 5,
   "metadata": {},
   "outputs": [
    {
     "name": "stdout",
     "output_type": "stream",
     "text": [
      "[1, 2, 4, 77, 3, 3, 3, 6, 5]\n"
     ]
    }
   ],
   "source": [
    "#Tuples are immutable and lists are mutable\n",
    "List1 = [1, 2, 4, 4, 3, 3, 3, 6, 5]\n",
    "List1[3] = 77\n",
    "print(List1)\n"
   ]
  },
  {
   "cell_type": "code",
   "execution_count": null,
   "metadata": {},
   "outputs": [],
   "source": [
    "#We can see here tuple can not be modified.\n",
    "tuple1 = (0, 1, 2, 3)\n",
    "tuple1[0] = 4\n",
    "print(tuple1)"
   ]
  },
  {
   "cell_type": "code",
   "execution_count": 18,
   "metadata": {},
   "outputs": [
    {
     "name": "stdout",
     "output_type": "stream",
     "text": [
      "120\n",
      "64\n"
     ]
    }
   ],
   "source": [
    "#As tuples are stored in a single memory block therefore they don’t require extra space \n",
    "#for new objects whereas the lists are allocated in two blocks, first the fixed one with\n",
    " #all the Python object information and second a variable-sized block for the data.\n",
    "import sys\n",
    "\n",
    "list1 = [\"England\", \"If\", \"England\"]\n",
    "tuple1 = (\"England\", \"If\", \"England\")\n",
    "print(sys.getsizeof(list1))\n",
    "print(sys.getsizeof(tuple1))"
   ]
  },
  {
   "cell_type": "code",
   "execution_count": 1,
   "metadata": {},
   "outputs": [
    {
     "name": "stdout",
     "output_type": "stream",
     "text": [
      "[1, 2, 3]\n",
      "(1, 2, 3)\n"
     ]
    }
   ],
   "source": [
    "#list\n",
    "list1=[1,2,3]\n",
    "print(list1)\n",
    "#Tuple\n",
    "tuple1=(1,2,3)\n",
    "print(tuple1)"
   ]
  },
  {
   "cell_type": "code",
   "execution_count": 1,
   "metadata": {},
   "outputs": [
    {
     "name": "stdout",
     "output_type": "stream",
     "text": [
      "<class 'list'>\n",
      "<class 'tuple'>\n"
     ]
    }
   ],
   "source": [
    "# list\n",
    "list1=[1]\n",
    "print(type(list1))\n",
    "#tuple\n",
    "tuple1=(1,)\n",
    "print(type(tuple1))"
   ]
  },
  {
   "cell_type": "code",
   "execution_count": 25,
   "metadata": {},
   "outputs": [
    {
     "name": "stdout",
     "output_type": "stream",
     "text": [
      "[1, 2, 3, 4, 5]\n",
      "(1, 2, 3, 4, 5)\n"
     ]
    }
   ],
   "source": [
    "# add, remove,edit\n",
    "#list\n",
    "list1=[1,2,3,4]\n",
    "list1.append(5)\n",
    "print(list1)\n",
    "#We cannot perform addition on tuples in Python, so we convert the tuple to a list,\n",
    "#perform the addition, and then convert the resulting list back to a tuple\n",
    "tuple1=(1,2,3,4)\n",
    "list2=list(tuple1)\n",
    "list2.append(5)\n",
    "tuple2=tuple(list2)\n",
    "print(tuple2)\n",
    "\n"
   ]
  },
  {
   "cell_type": "code",
   "execution_count": 23,
   "metadata": {},
   "outputs": [
    {
     "name": "stdout",
     "output_type": "stream",
     "text": [
      "[1, 'Python', 3, 4]\n",
      "(1, 'python', 3, 4)\n"
     ]
    }
   ],
   "source": [
    "\n",
    "#_____________edit_______________\n",
    "#list\n",
    "list1=[1,2,3,4]\n",
    "list1[1]=\"Python\"\n",
    "print(list1)\n",
    "#We cannot perform edit on tuples in Python, so we convert the tuple to a list,\n",
    "#perform the edit, and then convert the resulting list back to a tuple\n",
    "tuple1=(1,2,3,4)\n",
    "list2=list(tuple1)\n",
    "list2[1]=\"python\"\n",
    "tuple2=tuple(list2)\n",
    "print(tuple2)\n"
   ]
  },
  {
   "cell_type": "code",
   "execution_count": 22,
   "metadata": {},
   "outputs": [
    {
     "name": "stdout",
     "output_type": "stream",
     "text": [
      "[2, 3, 4]\n",
      "(2, 3, 4)\n"
     ]
    }
   ],
   "source": [
    "#_____________remove___________\n",
    "#list\n",
    "list1=[1,2,3,4]\n",
    "list1.remove(1)\n",
    "print(list1)\n",
    "#We cannot perform remove on tuples in Python, so we convert the tuple to a list,\n",
    "#perform the remove, and then convert the resulting list back to a tuple\n",
    "tuple1=(1,2,3,4)\n",
    "list2=list(tuple1)\n",
    "list2.remove(1)\n",
    "tuple2=tuple(list2)\n",
    "print(tuple2)\n"
   ]
  },
  {
   "attachments": {},
   "cell_type": "markdown",
   "metadata": {},
   "source": [
    "<h5 style=\"background-color:#1765e3;text-align:left;border-radius:40px;border: 1px;padding: 10px;color:white\"><b>2- Tuple(100)</h5>"
   ]
  },
  {
   "attachments": {},
   "cell_type": "markdown",
   "metadata": {},
   "source": [
    "Create an empty tuple"
   ]
  },
  {
   "cell_type": "code",
   "execution_count": 2,
   "metadata": {},
   "outputs": [
    {
     "name": "stdout",
     "output_type": "stream",
     "text": [
      "<class 'tuple'>\n"
     ]
    }
   ],
   "source": [
    "tuple1=()\n",
    "print(type(tuple1))"
   ]
  },
  {
   "attachments": {},
   "cell_type": "markdown",
   "metadata": {},
   "source": [
    "Create a tuple with one item"
   ]
  },
  {
   "cell_type": "code",
   "execution_count": 21,
   "metadata": {},
   "outputs": [
    {
     "name": "stdout",
     "output_type": "stream",
     "text": [
      "(12,)\n"
     ]
    }
   ],
   "source": [
    "tuple2=(12,)\n",
    "print(tuple2)"
   ]
  },
  {
   "attachments": {},
   "cell_type": "markdown",
   "metadata": {},
   "source": [
    "Create a tuple with more than one item."
   ]
  },
  {
   "cell_type": "code",
   "execution_count": 22,
   "metadata": {},
   "outputs": [
    {
     "name": "stdout",
     "output_type": "stream",
     "text": [
      "(1, 2, 3, 'python', True)\n"
     ]
    }
   ],
   "source": [
    "tuple3=(1,2,3,\"python\",True)\n",
    "print(tuple3)"
   ]
  },
  {
   "attachments": {},
   "cell_type": "markdown",
   "metadata": {},
   "source": [
    "Concatenate two tuples of Part2 and Part3"
   ]
  },
  {
   "cell_type": "code",
   "execution_count": 23,
   "metadata": {},
   "outputs": [
    {
     "name": "stdout",
     "output_type": "stream",
     "text": [
      "(12, 1, 2, 3, 'python', True)\n"
     ]
    }
   ],
   "source": [
    "tuple4=tuple2+tuple3\n",
    "print(tuple4)"
   ]
  },
  {
   "attachments": {},
   "cell_type": "markdown",
   "metadata": {},
   "source": [
    "Check 1 is in tuple of Part4 or no."
   ]
  },
  {
   "cell_type": "code",
   "execution_count": 24,
   "metadata": {},
   "outputs": [
    {
     "name": "stdout",
     "output_type": "stream",
     "text": [
      "yes\n"
     ]
    }
   ],
   "source": [
    "if 1 in tuple4:\n",
    "    print(\"yes\")\n",
    "else:\n",
    "    print(\"no\")    "
   ]
  },
  {
   "attachments": {},
   "cell_type": "markdown",
   "metadata": {},
   "source": [
    "<h5 style=\"background-color:#1765e3;text-align:left;border-radius:40px;border: 1px;padding: 10px;color:white\"><b>3- Answer the questions according to the list below.\n",
    "numbers = (10, 20, 30, 5, 40, 20, 4, 2, 1,8, 80)  (100)</h5>"
   ]
  },
  {
   "attachments": {},
   "cell_type": "markdown",
   "metadata": {},
   "source": [
    "Add 100 at the end of tuple"
   ]
  },
  {
   "cell_type": "code",
   "execution_count": 34,
   "metadata": {},
   "outputs": [
    {
     "name": "stdout",
     "output_type": "stream",
     "text": [
      "(10, 20, 30, 5, 40, 20, 4, 2, 1, 8, 80, 100)\n"
     ]
    }
   ],
   "source": [
    "numbers = (10, 20, 30, 5, 40, 20, 4, 2, 1,8, 80)\n",
    "tuple1=(100,)\n",
    "result=numbers+tuple1\n",
    "print(result)\n",
    "\n"
   ]
  },
  {
   "attachments": {},
   "cell_type": "markdown",
   "metadata": {},
   "source": [
    "Add 50 in the index of 3."
   ]
  },
  {
   "cell_type": "code",
   "execution_count": 17,
   "metadata": {},
   "outputs": [
    {
     "name": "stdout",
     "output_type": "stream",
     "text": [
      "(10, 20, 30, 50, 5, 40, 20, 4, 2, 1, 8, 80)\n"
     ]
    }
   ],
   "source": [
    "numbers = (10, 20, 30, 5, 40, 20, 4, 2, 1,8, 80)\n",
    "numbers=list(numbers)\n",
    "numbers.insert(3,50)\n",
    "numbers=tuple(numbers)\n",
    "print(numbers)\n"
   ]
  },
  {
   "attachments": {},
   "cell_type": "markdown",
   "metadata": {},
   "source": [
    "Remove 30 from tuple"
   ]
  },
  {
   "cell_type": "code",
   "execution_count": 37,
   "metadata": {},
   "outputs": [
    {
     "name": "stdout",
     "output_type": "stream",
     "text": [
      "(10, 20, 50, 40, 20, 4, 2, 1, 8, 80)\n"
     ]
    }
   ],
   "source": [
    "numbers=list(numbers)\n",
    "numbers.remove(30)\n",
    "numbers=tuple(numbers)\n",
    "print(numbers)"
   ]
  },
  {
   "attachments": {},
   "cell_type": "markdown",
   "metadata": {},
   "source": [
    "Edit 10 with 110."
   ]
  },
  {
   "cell_type": "code",
   "execution_count": 39,
   "metadata": {},
   "outputs": [
    {
     "name": "stdout",
     "output_type": "stream",
     "text": [
      "(110, 2, 4, 8, 10, 20, 20, 40, 50, 80)\n"
     ]
    }
   ],
   "source": [
    "numbers=list(numbers)\n",
    "numbers[0]=110\n",
    "numbers=tuple(numbers)\n",
    "print(numbers)"
   ]
  },
  {
   "attachments": {},
   "cell_type": "markdown",
   "metadata": {},
   "source": [
    "Sort the tuple."
   ]
  },
  {
   "cell_type": "code",
   "execution_count": 40,
   "metadata": {},
   "outputs": [
    {
     "name": "stdout",
     "output_type": "stream",
     "text": [
      "(2, 4, 8, 10, 20, 20, 40, 50, 80, 110)\n"
     ]
    }
   ],
   "source": [
    "numbers=list(numbers)\n",
    "numbers.sort()\n",
    "numbers=tuple(numbers)\n",
    "print(numbers)"
   ]
  },
  {
   "attachments": {},
   "cell_type": "markdown",
   "metadata": {},
   "source": [
    "<h5 style=\"background-color:#1765e3;text-align:left;border-radius:40px;border: 1px;padding: 10px;color:white\"><b>4- Write a python program that takes a list of tuple and display other list that only have\n",
    "first and last items of each tuple.</h5>"
   ]
  },
  {
   "cell_type": "code",
   "execution_count": 1,
   "metadata": {},
   "outputs": [],
   "source": [
    "# Input:[(1, 2, 3), (3, 5, 6), (4, 10, 12)]\n",
    "# Output: [(1, 3), (3, 6), (4, 12)]"
   ]
  },
  {
   "cell_type": "code",
   "execution_count": 10,
   "metadata": {},
   "outputs": [
    {
     "name": "stdout",
     "output_type": "stream",
     "text": [
      "[(1, 2, 3), (3, 5, 6), (4, 10, 12)]\n",
      "[(1, 3), (3, 6), (4, 12)]\n"
     ]
    }
   ],
   "source": [
    "Input_1=input(\" take a list of tuple :   \") #[(1, 2, 3), (3, 5, 6), (4, 10, 12)]\n",
    "list_of_tuples = eval(Input_1)\n",
    "print(list_of_tuples)\n",
    "output_list=[]\n",
    "for i in list_of_tuples:\n",
    "    tuple1=(i[0],i[-1])\n",
    "    output_list.append(tuple1)\n",
    "print(output_list)    "
   ]
  },
  {
   "attachments": {},
   "cell_type": "markdown",
   "metadata": {},
   "source": [
    "<h5 style=\"background-color:#1765e3;text-align:left;border-radius:40px;border: 1px;padding: 10px;color:white\"><b>5- Generate 10 different random numbers between 100 and two 200.(100)\n",
    " </h5>"
   ]
  },
  {
   "cell_type": "code",
   "execution_count": 16,
   "metadata": {},
   "outputs": [
    {
     "data": {
      "text/plain": [
       "{100, 106, 123, 135, 138, 141, 145, 156, 159, 179}"
      ]
     },
     "execution_count": 16,
     "metadata": {},
     "output_type": "execute_result"
    }
   ],
   "source": [
    "from random import randint\n",
    "random_numbers = set()\n",
    "while len(random_numbers )<10:\n",
    "  random_numbers.add(randint(100,200))\n",
    "random_numbers"
   ]
  },
  {
   "attachments": {},
   "cell_type": "markdown",
   "metadata": {},
   "source": [
    "<h5 style=\"background-color:#1765e3;text-align:left;border-radius:40px;border: 1px;padding: 10px;color:white\"><b>6- Create two lists, then create a third list that contains values that are in the first list but\n",
    "not in the second list.\n",
    " </h5>"
   ]
  },
  {
   "cell_type": "code",
   "execution_count": 32,
   "metadata": {},
   "outputs": [
    {
     "name": "stdout",
     "output_type": "stream",
     "text": [
      "{1, 3}\n"
     ]
    }
   ],
   "source": [
    "list1=[1,3,4,5,6,7]\n",
    "list2=[4,5,6,10,14,7]\n",
    "set1=set(list1)\n",
    "set2=set(list2)\n",
    "set3=set1-set2\n",
    "print(set3)"
   ]
  },
  {
   "attachments": {},
   "cell_type": "markdown",
   "metadata": {},
   "source": [
    "<h5 style=\"background-color:#1765e3;text-align:left;border-radius:40px;border: 1px;padding: 10px;color:white\"><b>7- Find two new methods for Tuple and Set.\n",
    " </h5>"
   ]
  },
  {
   "cell_type": "code",
   "execution_count": 37,
   "metadata": {},
   "outputs": [
    {
     "data": {
      "text/plain": [
       "1"
      ]
     },
     "execution_count": 37,
     "metadata": {},
     "output_type": "execute_result"
    }
   ],
   "source": [
    "my_tuple = (1, 2, 3, 4, 2, 5, 2)\n",
    "my_tuple.count(2)\n",
    "my_tuple.index(2)"
   ]
  },
  {
   "cell_type": "code",
   "execution_count": 41,
   "metadata": {},
   "outputs": [
    {
     "name": "stdout",
     "output_type": "stream",
     "text": [
      "First occurrence of 3 after 4th index is: 6\n"
     ]
    }
   ],
   "source": [
    "my_tuple = (1,3 ,2, 3, 4, 2,3, 5, 2)\n",
    "res = my_tuple.index(3, 4)\n",
    "print('First occurrence of 3 after 4th index is:', res)"
   ]
  },
  {
   "cell_type": "code",
   "execution_count": 42,
   "metadata": {},
   "outputs": [
    {
     "data": {
      "text/plain": [
       "{1, 2, 3, 4, 5, 7}"
      ]
     },
     "execution_count": 42,
     "metadata": {},
     "output_type": "execute_result"
    }
   ],
   "source": [
    "set1={1,2,3,4}\n",
    "set2={4,5,3,7,2}\n",
    "set3.union(set1,set2)"
   ]
  },
  {
   "cell_type": "code",
   "execution_count": 45,
   "metadata": {},
   "outputs": [
    {
     "data": {
      "text/plain": [
       "{'C++', 'Go', 'Java'}"
      ]
     },
     "execution_count": 45,
     "metadata": {},
     "output_type": "execute_result"
    }
   ],
   "source": [
    "# Find the intersection of two sets\n",
    "set1 = {'Python', 'Java', 'C++','Go'}\n",
    "set2 = {'Java', 'C++', 'Go'}\n",
    "set1.intersection(set2)"
   ]
  },
  {
   "attachments": {},
   "cell_type": "markdown",
   "metadata": {},
   "source": [
    "<h3 style=\"background-color:#ff3300\n",
    ";text-align:center;border-radius:40px;border: 1px;padding: 10px;color:white\"><b>Exercise 10<br>Score: 150</h3>"
   ]
  },
  {
   "attachments": {},
   "cell_type": "markdown",
   "metadata": {},
   "source": [
    "<h5 style=\"background-color:#1765e3;text-align:left;border-radius:40px;border: 1px;padding: 10px;color:white\"><b>1- Write a recursive function for the binary search algorithm. (150)\n",
    " </h5>"
   ]
  },
  {
   "cell_type": "code",
   "execution_count": 1,
   "metadata": {},
   "outputs": [],
   "source": [
    "def binary_search_recursive(list1,low,high,x):\n",
    "    low=0\n",
    "    high=len(list1)-1\n",
    "    mid=0\n",
    "    while low<=high :\n",
    "        mid=(low+high)//2\n",
    "        if list1[mid]<x:\n",
    "            return binary_search_recursive(list1, mid + 1, high, x)\n",
    "        elif list1[mid]>x:\n",
    "            return binary_search_recursive(list1, low, mid-1, x)\n",
    "        else:\n",
    "            return mid\n",
    "    else:\n",
    "        return -1    \n",
    "            \n"
   ]
  },
  {
   "cell_type": "code",
   "execution_count": 8,
   "metadata": {},
   "outputs": [
    {
     "name": "stdout",
     "output_type": "stream",
     "text": [
      "-1\n"
     ]
    }
   ],
   "source": [
    "list1 = [1, 3, 5, 7, 9,100,10000,40000,44,888]\n",
    "x = 888\n",
    "result = binary_search_recursive(list1, 0, len(list1) - 1, x)\n",
    "print(result)"
   ]
  },
  {
   "cell_type": "code",
   "execution_count": null,
   "metadata": {},
   "outputs": [],
   "source": [
    "n=10"
   ]
  }
 ],
 "metadata": {
  "kernelspec": {
   "display_name": "base",
   "language": "python",
   "name": "python3"
  },
  "language_info": {
   "codemirror_mode": {
    "name": "ipython",
    "version": 3
   },
   "file_extension": ".py",
   "mimetype": "text/x-python",
   "name": "python",
   "nbconvert_exporter": "python",
   "pygments_lexer": "ipython3",
   "version": "3.9.13"
  },
  "orig_nbformat": 4
 },
 "nbformat": 4,
 "nbformat_minor": 2
}
