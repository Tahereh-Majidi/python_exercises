{
 "cells": [
  {
   "attachments": {},
   "cell_type": "markdown",
   "metadata": {},
   "source": [
    "# Question 1 (Functions)"
   ]
  },
  {
   "cell_type": "code",
   "execution_count": 19,
   "metadata": {},
   "outputs": [
    {
     "name": "stdout",
     "output_type": "stream",
     "text": [
      "2 + 3 = ?: command not found!\n"
     ]
    }
   ],
   "source": [
    "#------------------------------Functions--------------------------------\n",
    "\n",
    "def add(product):\n",
    "    if product not in products:\n",
    "        price=int(input(\"Enter your price:   \"))  \n",
    "        products.append(product)\n",
    "        prices.append(price)\n",
    "        print(\"your  product  and price  have been successfuly added \\n\")\n",
    "    else:\n",
    "        print(f\"{product}: Exist  \\n\") \n",
    "\n",
    "def display():\n",
    "      for i,n in enumerate(products):\n",
    "             print(f\"product_{i+1}: {n}---->{prices[i]}\")\n",
    "\n",
    "def edit(new_product):\n",
    "      new_product=new_product.split()\n",
    "      for p in new_product:\n",
    "        i=products.index(p) \n",
    "        prices[i]= int(input(f\"new price of {p}: \"))\n",
    "\n",
    "def search(name):\n",
    "    for i, t in enumerate(products):\n",
    "        if name in t:\n",
    "            print(f\" {t}---->{prices[i]}\")\n",
    "\n",
    "def delete(names):\n",
    "    names=names.split()\n",
    "    for p in names:\n",
    "            i=products.index(p)\n",
    "            products.pop(i)\n",
    "            prices.pop(i)\n",
    "\n",
    "def detail():\n",
    "          total_number=len(products)\n",
    "          print(f\"The total number of products are : {total_number}\")\n",
    "\n",
    "          sum_prices=sum(prices)\n",
    "          average_price=sum_prices/total_number\n",
    "          print(f\"The average price of products is: {average_price}\")\n",
    "\n",
    "          max_price = max(prices)\n",
    "          max_indices = [ i for i, x in enumerate(prices) if x == max_price]\n",
    "          for i in max_indices:\n",
    "            print(f\" The most expensive product is:  {products[i]}\")\n",
    "\n",
    "\n",
    "          min_price = min(prices)\n",
    "          min_indices = [ i for i, x in enumerate(prices) if x == min_price]\n",
    "          for i in min_indices:\n",
    "             print(f\" The cheapest product is:  {products[i]}\")           \n",
    "\n",
    "#---------------------------------------main-------------------------\n",
    "\n",
    "products=[] #String\n",
    "prices=[] # int\n",
    "# adding, deleting, editing, detail and searching \n",
    "\n",
    "\n",
    "while True:\n",
    "    user=input(\"Products management---> Select one option(add/delete/edit/ detail/search/display):  \")\n",
    "    if user==\"add\":\n",
    "            number=int(input(\"Enter your number of product: \"))\n",
    "            for i in range(number):\n",
    "                product=input(\"Enter your product :    \")\n",
    "                add(product)\n",
    "                \n",
    "    elif user==\"display\":\n",
    "         display()\n",
    "\n",
    "    elif user==\"delete\":\n",
    "         names=input(\"Enter your product to remove: \")\n",
    "         delete(names)\n",
    "         display()\n",
    "                 \n",
    "    elif  user==\"edit\":\n",
    "            new_product=input(\"Enter your product  to edit:    \") #p1, p2 , p3\n",
    "            edit(new_product)\n",
    "            display()\n",
    "                  \n",
    "    elif  user==\"detail\":\n",
    "          detail()\n",
    "          \n",
    "    elif user==\"search\":\n",
    "        name=input(\"product to search:  \")\n",
    "        search(name)\n",
    "\n",
    "    elif user==\"\":\n",
    "         pass\n",
    "\n",
    "    elif user==\"exit\":\n",
    "        break\n",
    "    else:\n",
    "            print(f\"{user}: command not found!\")"
   ]
  },
  {
   "attachments": {},
   "cell_type": "markdown",
   "metadata": {},
   "source": [
    "# Question 2 (Functions)\n"
   ]
  },
  {
   "cell_type": "code",
   "execution_count": 1,
   "metadata": {},
   "outputs": [
    {
     "name": "stdout",
     "output_type": "stream",
     "text": [
      "['2', '+', '3', '=', '?']\n",
      "[2, '+', 3, '=', '?']\n",
      "2 + 3 = 5\n"
     ]
    }
   ],
   "source": [
    "#______________________________________________Function_______________________________\n",
    "def sum_lists ():\n",
    "   list[4]=list[0]+list[2]\n",
    "   return list[4]\n",
    "\n",
    "def subtract_lists():\n",
    "    list[4]=list[0]-list[2]\n",
    "    return list[4]\n",
    "\n",
    "def multiple_lists() : \n",
    "     list[4]=list[0]*list[2]\n",
    "     return list[4]\n",
    "\n",
    "def divide_lists():\n",
    "      list[4] = list[0] / list[2]\n",
    "      return list[4]\n",
    "\n",
    "#__________________________________main_______________________________________\n",
    "Sample=input(\"Enter: \")\n",
    "list=Sample.split()\n",
    "print(list)\n",
    "list[0]=int(list[0])\n",
    "list[2]=int(list[2])\n",
    "print(list)\n",
    "if list[1] in [\"+\",\"-\",\"*\",\"/\"]:\n",
    "   if list[1]==\"+\": # 2 + 3 = ?\n",
    "      sum_lists()\n",
    "\n",
    "   elif list[1]==\"-\":   # 2 - 3 = ?\n",
    "      subtract_lists()\n",
    "      \n",
    "   elif  list[1]==\"*\":   #2 * 3 = ?\n",
    "      multiple_lists()\n",
    "\n",
    "   elif  list[1]==\"/\" and list[2]!=0:  #5 / 2 = ? 2 / 0 = ?\n",
    "         divide_lists()\n",
    "         \n",
    "   elif list[1]==\"/\":\n",
    "         list[4]=\"Error\"       \n",
    "   print(f\"{list[0]} {list[1]} {list[2]} = {list[4]}\")\n",
    "else:\n",
    "    print(\"not found\")   \n",
    "\n",
    "\n",
    "\n",
    "\n"
   ]
  },
  {
   "attachments": {},
   "cell_type": "markdown",
   "metadata": {},
   "source": [
    "# Question 3 (Functions)"
   ]
  },
  {
   "cell_type": "code",
   "execution_count": 4,
   "metadata": {},
   "outputs": [
    {
     "name": "stdout",
     "output_type": "stream",
     "text": [
      "output: [1, 12, 28]\n"
     ]
    }
   ],
   "source": [
    "Input_1=input(\"Enter “1 6 7 2 5 ”:   \")\n",
    "Input_2=input(\"Enter “1 2 4”:   \")\n",
    "Input_3=input(\"Enter one of the “+  - * ”:   \")\n",
    "list_1 = Input_1.split()\n",
    "list_1 = list(map(int, list_1))\n",
    "list_2 = Input_2.split()\n",
    "list_2 = list(map(int, list_2))\n",
    "if Input_3 ==\"+\":\n",
    "    sum_list=lambda a, b : a+b\n",
    "    output=list(map(sum_list,list_1,list_2))\n",
    "elif  Input_3 ==\"-\":  \n",
    "    subtract_list=lambda a, b: a-b\n",
    "    output=list(map(subtract_list,list_1,list_2))\n",
    "elif   Input_3 ==\"*\":  \n",
    "    miltiple_list=lambda a, b: a*b\n",
    "    output=list(map(miltiple_list,list_1,list_2))\n",
    "\n",
    "print(f\"output: {output}\")\n",
    "\n"
   ]
  }
 ],
 "metadata": {
  "kernelspec": {
   "display_name": "base",
   "language": "python",
   "name": "python3"
  },
  "language_info": {
   "codemirror_mode": {
    "name": "ipython",
    "version": 3
   },
   "file_extension": ".py",
   "mimetype": "text/x-python",
   "name": "python",
   "nbconvert_exporter": "python",
   "pygments_lexer": "ipython3",
   "version": "3.9.13"
  },
  "orig_nbformat": 4
 },
 "nbformat": 4,
 "nbformat_minor": 2
}
