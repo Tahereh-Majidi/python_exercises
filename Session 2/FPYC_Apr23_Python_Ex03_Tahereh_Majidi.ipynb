{
 "cells": [
  {
   "cell_type": "markdown",
   "id": "23676f22",
   "metadata": {},
   "source": [
    "# Question1(String)\n",
    "\n",
    "\n"
   ]
  },
  {
   "cell_type": "code",
   "execution_count": null,
   "id": "db1a1abb",
   "metadata": {},
   "outputs": [
    {
     "ename": "",
     "evalue": "",
     "output_type": "error",
     "traceback": [
      "\u001b[1;31mFailed to start the Kernel. \n",
      "\u001b[1;31m] To update, run: python.exe -m pip install --upgrade pip. \n",
      "\u001b[1;31mView Jupyter <a href='command:jupyter.viewOutput'>log</a> for further details."
     ]
    }
   ],
   "source": [
    "string=input(\"Enter your string: \")\n",
    "print(f\"First character of {string} is: {string[0]}\")\n",
    "print(f\"Last character of {string} is :{string[-1]}\")\n",
    "len_str=len(string)\n",
    "mid=int(len_str/2)\n",
    "if len_str%2==0:\n",
    "    print(f\"Middle characters of {string} are: {string[mid-1:mid+1]}\")\n",
    "else:\n",
    "    print(f\"Middle character of {string} is : {string[mid]}\")"
   ]
  },
  {
   "cell_type": "markdown",
   "id": "59d88be6",
   "metadata": {},
   "source": [
    "# Question2(String)"
   ]
  },
  {
   "cell_type": "code",
   "execution_count": 23,
   "id": "1d574abf",
   "metadata": {},
   "outputs": [
    {
     "name": "stdout",
     "output_type": "stream",
     "text": [
      "Enter string1: lfdkjhhhd\n",
      "Enter string2: hjjdfl;;;'g;\n",
      "Enter string3: shjkflll;r;';lk\n",
      "The third string is greater than the avrage :shjkflll;r;';lk\n"
     ]
    }
   ],
   "source": [
    "str1=input(\"Enter string1: \")\n",
    "str2=input(\"Enter string2: \")\n",
    "str3=input(\"Enter string3: \")\n",
    "avrage=(len(str1)+len(str2)+len(str3))/3\n",
    "if avrage<len(str1):\n",
    "    print(f\" The first string is greater than the avrage :{str1}\")\n",
    "elif  avrage<len(str2):\n",
    "    print(f\"The second string is greater than the avrage :{str2}\")\n",
    "else:\n",
    "    print(f\"The third string is greater than the avrage :{str3}\")\n",
    "    "
   ]
  },
  {
   "cell_type": "markdown",
   "id": "a794a6d8",
   "metadata": {},
   "source": [
    "# Question3(String)"
   ]
  },
  {
   "cell_type": "code",
   "execution_count": 36,
   "id": "ed5e99ef",
   "metadata": {},
   "outputs": [
    {
     "name": "stdout",
     "output_type": "stream",
     "text": [
      "Enter string1: majidi\n",
      "Enter string2: mohamadi\n",
      "Result:mohamadimajidimohamadi \n"
     ]
    }
   ],
   "source": [
    "str1=input('Enter string1: ')\n",
    "str2=input('Enter string2: ')\n",
    "if str2 in str1:\n",
    "    new_str=str1.replace(str2,\" \")\n",
    "    print(f\"Result:{new_str} \")\n",
    "else:\n",
    "    new_str=str2+str1+str2\n",
    "    print(f\"Result:{new_str} \")"
   ]
  },
  {
   "cell_type": "markdown",
   "id": "6b7bc605",
   "metadata": {},
   "source": [
    "# Question4(String)"
   ]
  },
  {
   "cell_type": "markdown",
   "id": "86781509",
   "metadata": {},
   "source": [
    "# Method 1\n",
    "#Capitalize\n",
    "#Converts the first character to upper case \n",
    "\n"
   ]
  },
  {
   "cell_type": "code",
   "execution_count": 56,
   "id": "e542373c",
   "metadata": {},
   "outputs": [
    {
     "name": "stdout",
     "output_type": "stream",
     "text": [
      "Hello world :)\n"
     ]
    }
   ],
   "source": [
    "string=\"HELLO WORLD :)\"\n",
    "new_str=string.capitalize()\n",
    "print(new_str)"
   ]
  },
  {
   "cell_type": "markdown",
   "id": "9ea3558a",
   "metadata": {},
   "source": [
    "# Method 2\n",
    "#-isalpha():Returns True if all characters in the string are alphabet:\n"
   ]
  },
  {
   "cell_type": "code",
   "execution_count": 57,
   "id": "058608ce",
   "metadata": {},
   "outputs": [
    {
     "name": "stdout",
     "output_type": "stream",
     "text": [
      "False\n",
      "True\n"
     ]
    }
   ],
   "source": [
    "string1=\" abcd1263\"\n",
    "string2=\"Hello\"\n",
    "new_str1=string1.isalpha()\n",
    "print(new_str1)\n",
    "new_str2=string2.isalpha()\n",
    "print(new_str2)"
   ]
  },
  {
   "cell_type": "markdown",
   "id": "487c9680",
   "metadata": {},
   "source": [
    "# Method 3\n",
    "#Return True if all characters in the string are digits.\n",
    "\n"
   ]
  },
  {
   "cell_type": "code",
   "execution_count": 58,
   "id": "925d4908",
   "metadata": {},
   "outputs": [
    {
     "name": "stdout",
     "output_type": "stream",
     "text": [
      "True\n",
      "False\n"
     ]
    }
   ],
   "source": [
    "string1=\"1263\"\n",
    "string2=\"Hello2023\"\n",
    "new_str1=string1.isdigit()\n",
    "print(new_str1)\n",
    "new_str2=string2.isdigit()\n",
    "print(new_str2)"
   ]
  },
  {
   "cell_type": "markdown",
   "id": "74c27080",
   "metadata": {},
   "source": [
    "# Method 4\n",
    "-isalnum: Return True if all characters in the string are either alphabets or digits.\n",
    "\n"
   ]
  },
  {
   "cell_type": "code",
   "execution_count": 59,
   "id": "4477c3c0",
   "metadata": {},
   "outputs": [
    {
     "name": "stdout",
     "output_type": "stream",
     "text": [
      "False\n",
      "True\n"
     ]
    }
   ],
   "source": [
    "string1=\"58uy!\"\n",
    "string2=\"Hello2023\"\n",
    "new_str1=string1.isalnum()\n",
    "print(new_str1)\n",
    "new_str2=string2.isalnum()\n",
    "print(new_str2)"
   ]
  },
  {
   "cell_type": "code",
   "execution_count": null,
   "id": "4686c128",
   "metadata": {},
   "outputs": [],
   "source": []
  },
  {
   "cell_type": "code",
   "execution_count": null,
   "id": "07432dfc",
   "metadata": {},
   "outputs": [],
   "source": []
  }
 ],
 "metadata": {
  "kernelspec": {
   "display_name": "Python 3 (ipykernel)",
   "language": "python",
   "name": "python3"
  },
  "language_info": {
   "codemirror_mode": {
    "name": "ipython",
    "version": 3
   },
   "file_extension": ".py",
   "mimetype": "text/x-python",
   "name": "python",
   "nbconvert_exporter": "python",
   "pygments_lexer": "ipython3",
   "version": "3.10.8"
  }
 },
 "nbformat": 4,
 "nbformat_minor": 5
}
