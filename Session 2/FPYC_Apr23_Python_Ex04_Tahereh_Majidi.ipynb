{
 "cells": [
  {
   "cell_type": "markdown",
   "id": "9e1d235a",
   "metadata": {},
   "source": [
    "# Question 1 (Loop)"
   ]
  },
  {
   "cell_type": "code",
   "execution_count": 32,
   "id": "40d49ebf",
   "metadata": {},
   "outputs": [
    {
     "name": "stdout",
     "output_type": "stream",
     "text": [
      "P\n",
      "PY\n",
      "PYT\n",
      "PYTH\n",
      "PYTHO\n",
      "PYTHON\n"
     ]
    }
   ],
   "source": [
    "text='PYTHON'\n",
    "for i in range(len(text)):\n",
    "    print(text[0:i+1])\n",
    "    \n",
    "    "
   ]
  },
  {
   "cell_type": "markdown",
   "id": "0fc43335",
   "metadata": {},
   "source": [
    "# Question 2 (Loop)"
   ]
  },
  {
   "cell_type": "code",
   "execution_count": 80,
   "id": "3303a760",
   "metadata": {},
   "outputs": [
    {
     "name": "stdout",
     "output_type": "stream",
     "text": [
      "count is: 19\n"
     ]
    }
   ],
   "source": [
    "text=\"Python is a high-level, general-purpose programming language. \"\n",
    "count_a=0\n",
    "count_e=0\n",
    "count_i=0\n",
    "count_o=0\n",
    "count_u=0\n",
    "for letter in text:\n",
    "    if letter==\"a\":\n",
    "        count_a+=1\n",
    "    if letter==\"e\": \n",
    "        count_e+=1\n",
    "    if letter==\"i\": \n",
    "        count_i+=1\n",
    "    if letter==\"o\": \n",
    "        count_o+=1\n",
    "    if letter==\"u\": \n",
    "        count_u+=1\n",
    "count=count_a+count_e+count_i+count_o+count_u       \n",
    "print(f\"count is: {count}\")\n",
    "       "
   ]
  },
  {
   "cell_type": "markdown",
   "id": "c4245ce1",
   "metadata": {},
   "source": [
    "# Question 3 (Loop)"
   ]
  },
  {
   "cell_type": "code",
   "execution_count": 88,
   "id": "b17f6b39",
   "metadata": {},
   "outputs": [
    {
     "name": "stdout",
     "output_type": "stream",
     "text": [
      "Please enter number:  5\n",
      " 5*0=0\n",
      " 5*2=10\n",
      " 5*4=20\n",
      " 5*6=30\n",
      " 5*8=40\n",
      " 5*10=50\n"
     ]
    }
   ],
   "source": [
    "number=int(input(\"Please enter number:  \"))\n",
    "for i in range(0,11,2):\n",
    "    new_number=number*i\n",
    "    print(f\" {number}*{i}={new_number}\")"
   ]
  },
  {
   "cell_type": "markdown",
   "id": "2830392b",
   "metadata": {},
   "source": [
    "# Question 4 (Loop)"
   ]
  },
  {
   "cell_type": "code",
   "execution_count": 93,
   "id": "22e36926",
   "metadata": {},
   "outputs": [
    {
     "name": "stdout",
     "output_type": "stream",
     "text": [
      "Please enter number:  5\n",
      "5/0=Error\n",
      "5/1=5\n",
      "5/2=2\n",
      "5/3=1\n",
      "5/4=1\n"
     ]
    }
   ],
   "source": [
    "number=int(input(\"Please enter number:  \"))\n",
    "for i in range(number):\n",
    "    if i==0:\n",
    "        print(f\"{number}/{0}=Error\")\n",
    "    else:\n",
    "        new_number= number/i\n",
    "        print(f\"{number}/{i}={int(new_number)}\")"
   ]
  },
  {
   "cell_type": "code",
   "execution_count": null,
   "id": "320f1b68",
   "metadata": {},
   "outputs": [],
   "source": []
  }
 ],
 "metadata": {
  "kernelspec": {
   "display_name": "Python 3 (ipykernel)",
   "language": "python",
   "name": "python3"
  },
  "language_info": {
   "codemirror_mode": {
    "name": "ipython",
    "version": 3
   },
   "file_extension": ".py",
   "mimetype": "text/x-python",
   "name": "python",
   "nbconvert_exporter": "python",
   "pygments_lexer": "ipython3",
   "version": "3.9.13"
  }
 },
 "nbformat": 4,
 "nbformat_minor": 5
}
