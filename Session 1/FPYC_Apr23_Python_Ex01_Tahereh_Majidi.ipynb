{
 "cells": [
  {
   "cell_type": "markdown",
   "id": "876b0a47",
   "metadata": {},
   "source": [
    "# Question 1"
   ]
  },
  {
   "cell_type": "code",
   "execution_count": 1,
   "id": "293ae379",
   "metadata": {},
   "outputs": [
    {
     "name": "stdout",
     "output_type": "stream",
     "text": [
      "<class 'float'>\n",
      "12\n",
      "<class 'int'>\n"
     ]
    }
   ],
   "source": [
    "#Type\n",
    "num1=12.6\n",
    "t1=type(num1)\n",
    "print(t1)\n",
    "\n",
    "#casting\n",
    "num1=12.6\n",
    "num1=int(num1)\n",
    "print(num1)\n",
    "print(type(num1))"
   ]
  },
  {
   "cell_type": "code",
   "execution_count": 2,
   "id": "cac2fb08",
   "metadata": {},
   "outputs": [
    {
     "name": "stdout",
     "output_type": "stream",
     "text": [
      "<class 'str'>\n",
      "50.0\n",
      "<class 'float'>\n",
      "50\n",
      "<class 'int'>\n"
     ]
    }
   ],
   "source": [
    "#type\n",
    "num2='050'\n",
    "t2=type(num2)\n",
    "print(t2)\n",
    "\n",
    "#casting\n",
    "#float\n",
    "num2='050'\n",
    "num2=float(num2)\n",
    "print(num2)\n",
    "print(type(num2))\n",
    "\n",
    "#int\n",
    "num2=int(num2)\n",
    "print(num2)\n",
    "print(type(num2))"
   ]
  },
  {
   "cell_type": "code",
   "execution_count": 3,
   "id": "acb7d9c2",
   "metadata": {},
   "outputs": [
    {
     "name": "stdout",
     "output_type": "stream",
     "text": [
      "<class 'str'>\n",
      "20.0\n",
      "<class 'float'>\n",
      "20\n",
      "<class 'int'>\n"
     ]
    }
   ],
   "source": [
    "#type\n",
    "num3=\"20.\"\n",
    "t3=type(num3)\n",
    "print(t3)\n",
    "\n",
    "#casting\n",
    "#float\n",
    "num3=\"20.\"\n",
    "num3=float(num3)\n",
    "print(num3)\n",
    "print(type(num3))\n",
    "\n",
    "#int\n",
    "num3=int(num3)\n",
    "print(num3)\n",
    "print(type(num3))"
   ]
  },
  {
   "cell_type": "code",
   "execution_count": 4,
   "id": "0321229c",
   "metadata": {},
   "outputs": [
    {
     "name": "stdout",
     "output_type": "stream",
     "text": [
      "<class 'str'>\n"
     ]
    }
   ],
   "source": [
    "#type\n",
    "student_num = 's98234'\n",
    "t4=type(student_num)\n",
    "print(t4)"
   ]
  },
  {
   "cell_type": "code",
   "execution_count": 5,
   "id": "95bff317",
   "metadata": {},
   "outputs": [
    {
     "name": "stdout",
     "output_type": "stream",
     "text": [
      "<class 'bool'>\n",
      "1.0\n",
      "<class 'float'>\n",
      "1\n",
      "<class 'int'>\n"
     ]
    }
   ],
   "source": [
    "#type\n",
    "flag = True\n",
    "t5=type(flag)\n",
    "print(t5)\n",
    "\n",
    "#casting\n",
    "#float\n",
    "flag = float(True)\n",
    "print(flag)\n",
    "print(type(flag))\n",
    "\n",
    "#int\n",
    "flag = int(True)\n",
    "print(flag)\n",
    "print(type(flag))"
   ]
  },
  {
   "cell_type": "code",
   "execution_count": 6,
   "id": "4dd225c0",
   "metadata": {},
   "outputs": [
    {
     "name": "stdout",
     "output_type": "stream",
     "text": [
      "True\n",
      "<class 'bool'>\n"
     ]
    }
   ],
   "source": [
    "#casting\n",
    "num1 = -20\n",
    "num1=bool(num1)\n",
    "print(num1)\n",
    "\n",
    "#type\n",
    "print(type(num1))"
   ]
  },
  {
   "cell_type": "code",
   "execution_count": 7,
   "id": "81430fc7",
   "metadata": {},
   "outputs": [
    {
     "name": "stdout",
     "output_type": "stream",
     "text": [
      "False\n",
      "<class 'bool'>\n"
     ]
    }
   ],
   "source": [
    "#casting\n",
    "num2 =00\n",
    "num2=bool(num2)\n",
    "print(num2)\n",
    "\n",
    "#type\n",
    "print(type(num2))"
   ]
  },
  {
   "cell_type": "code",
   "execution_count": 8,
   "id": "a52163a6",
   "metadata": {},
   "outputs": [
    {
     "name": "stdout",
     "output_type": "stream",
     "text": [
      "True\n",
      "<class 'bool'>\n"
     ]
    }
   ],
   "source": [
    "#casting\n",
    "flag = 'False'\n",
    "flag=bool(flag)\n",
    "print(flag)\n",
    "\n",
    "#type\n",
    "print(type(flag))"
   ]
  },
  {
   "cell_type": "markdown",
   "id": "bf49c696",
   "metadata": {},
   "source": [
    "# Question 2"
   ]
  },
  {
   "cell_type": "code",
   "execution_count": 9,
   "id": "970d9ca1",
   "metadata": {},
   "outputs": [
    {
     "name": "stdout",
     "output_type": "stream",
     "text": [
      "19.166666666666668\n"
     ]
    }
   ],
   "source": [
    "num1 = 20\n",
    "num2 = 19.\n",
    "num3 = '18.5'\n",
    "\n",
    "#casting num3\n",
    "num3=float(num3)\n",
    "           \n",
    "#average\n",
    "average=(num1+num2+num3)/3\n",
    "print(average)"
   ]
  },
  {
   "cell_type": "markdown",
   "id": "51d5635e",
   "metadata": {},
   "source": [
    "# Question 3"
   ]
  },
  {
   "cell_type": "code",
   "execution_count": 2,
   "id": "1cff9f7f",
   "metadata": {},
   "outputs": [
    {
     "name": "stdout",
     "output_type": "stream",
     "text": [
      "True\n",
      "False\n"
     ]
    }
   ],
   "source": [
    "num1=12\n",
    "num2=10\n",
    "print(num1>num2)\n",
    "print(num1<num2)"
   ]
  },
  {
   "cell_type": "markdown",
   "id": "005290a4",
   "metadata": {},
   "source": [
    "# Question 4"
   ]
  },
  {
   "cell_type": "code",
   "execution_count": 12,
   "id": "a15a9135",
   "metadata": {},
   "outputs": [
    {
     "name": "stdout",
     "output_type": "stream",
     "text": [
      "please give the length: 10\n",
      "please give the width:  20\n",
      "60.0\n",
      "200.0\n"
     ]
    }
   ],
   "source": [
    "length=float(input('please give the length: '))\n",
    "width=float(input('please give the width:  '))\n",
    "\n",
    "#perimeter\n",
    "perimeter=2*(length+width)\n",
    "print(perimeter)\n",
    "\n",
    "#area\n",
    "area=length*width\n",
    "print(area)"
   ]
  },
  {
   "cell_type": "markdown",
   "id": "a185bebf",
   "metadata": {},
   "source": [
    "# Question 5"
   ]
  },
  {
   "cell_type": "code",
   "execution_count": 13,
   "id": "433b741a",
   "metadata": {},
   "outputs": [
    {
     "name": "stdout",
     "output_type": "stream",
     "text": [
      "please give diagonal:  10\n",
      "78.5\n",
      "100.0\n",
      "21.5\n"
     ]
    }
   ],
   "source": [
    "#circle\n",
    "diagonal=float(input(\"please give diagonal:  \"))\n",
    "radius=diagonal/2\n",
    "p=3.14\n",
    "area_circle=p*radius**2\n",
    "print(area_circle)\n",
    "\n",
    "#square\n",
    "side=diagonal\n",
    "area_square=side*side\n",
    "print(area_square)\n",
    "\n",
    "#the area of the colored part\n",
    "area_colored =area_square-area_circle\n",
    "print(area_colored)"
   ]
  },
  {
   "cell_type": "markdown",
   "id": "4061c72c",
   "metadata": {},
   "source": [
    "# Question 6"
   ]
  },
  {
   "cell_type": "code",
   "execution_count": 15,
   "id": "cbf79b47",
   "metadata": {},
   "outputs": [
    {
     "name": "stdout",
     "output_type": "stream",
     "text": [
      "200\n",
      "200\n",
      "200\n"
     ]
    }
   ],
   "source": [
    "num1 = num2 = num3 = 200\n",
    "print(num1)\n",
    "print(num2)\n",
    "print(num3)"
   ]
  },
  {
   "cell_type": "code",
   "execution_count": 16,
   "id": "4152b629",
   "metadata": {},
   "outputs": [
    {
     "name": "stdout",
     "output_type": "stream",
     "text": [
      "10\n",
      "20\n",
      "145\n"
     ]
    }
   ],
   "source": [
    "num1 , num2 , num3 = 10, 20, 145\n",
    "print(num1)\n",
    "print(num2)\n",
    "print(num3)"
   ]
  },
  {
   "cell_type": "code",
   "execution_count": 17,
   "id": "d08c6e2b",
   "metadata": {},
   "outputs": [
    {
     "name": "stdout",
     "output_type": "stream",
     "text": [
      "30\n",
      "100\n",
      "50\n"
     ]
    }
   ],
   "source": [
    "#num1 , num2 , num3 = 30, 100\n",
    "''' It assigns the value  30 and 100 to the variables 'num1' and 'num2' respectively, \n",
    "but it doesn't do anything with the variable 'num3' '''\n",
    "#fix the error \n",
    "num1, num2, num3=30,100,50\n",
    "print(num1)\n",
    "print(num2)\n",
    "print(num3)"
   ]
  },
  {
   "cell_type": "code",
   "execution_count": null,
   "id": "c3dcc84c",
   "metadata": {},
   "outputs": [],
   "source": []
  }
 ],
 "metadata": {
  "kernelspec": {
   "display_name": "Python 3 (ipykernel)",
   "language": "python",
   "name": "python3"
  },
  "language_info": {
   "codemirror_mode": {
    "name": "ipython",
    "version": 3
   },
   "file_extension": ".py",
   "mimetype": "text/x-python",
   "name": "python",
   "nbconvert_exporter": "python",
   "pygments_lexer": "ipython3",
   "version": "3.9.13"
  }
 },
 "nbformat": 4,
 "nbformat_minor": 5
}
