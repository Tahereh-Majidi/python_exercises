{
 "cells": [
  {
   "cell_type": "markdown",
   "id": "2665d33c",
   "metadata": {},
   "source": [
    "# Question1"
   ]
  },
  {
   "cell_type": "code",
   "execution_count": 1,
   "id": "fbad9e56",
   "metadata": {},
   "outputs": [
    {
     "name": "stdout",
     "output_type": "stream",
     "text": [
      "Please enter a number:  -9\n",
      "The absolute value of -9.0 is 9.0\n"
     ]
    }
   ],
   "source": [
    "num=float(input('Please enter a number:  '))\n",
    "if num<0:\n",
    "    Abs_num=-num\n",
    "else :\n",
    "    Abs_num=num\n",
    "\n",
    "print('The absolute value of',num, 'is', Abs_num)"
   ]
  },
  {
   "cell_type": "markdown",
   "id": "52d0c259",
   "metadata": {},
   "source": [
    "# Question 2"
   ]
  },
  {
   "cell_type": "code",
   "execution_count": 2,
   "id": "27cb8be3",
   "metadata": {},
   "outputs": [
    {
     "name": "stdout",
     "output_type": "stream",
     "text": [
      "Please enter the first number:    78\n",
      "Please enter the second number:   14\n",
      "Please enter the third number:    56\n",
      "The middle number is: 56\n"
     ]
    }
   ],
   "source": [
    "num1=int(input('Please enter the first number:    '))\n",
    "num2=int(input('Please enter the second number:   '))\n",
    "num3=int(input('Please enter the third number:    '))\n",
    "if num1<=num2<=num3 or num3<=num2<=num1:\n",
    "    middle_number=num2\n",
    "elif num2<=num1<=num3 or num3<=num1<=num2:\n",
    "    middle_number=num1\n",
    "else:\n",
    "    middle_number=num3\n",
    "#Display the middle number\n",
    "print('The middle number is:',middle_number)"
   ]
  },
  {
   "cell_type": "markdown",
   "id": "d76d58d1",
   "metadata": {},
   "source": [
    "# Question 3"
   ]
  },
  {
   "cell_type": "code",
   "execution_count": 3,
   "id": "f158d951",
   "metadata": {},
   "outputs": [
    {
     "name": "stdout",
     "output_type": "stream",
     "text": [
      "Please enter username:  python2023\n",
      "Please enter password:  1258\n",
      "The entered password is wrong\n"
     ]
    }
   ],
   "source": [
    "define_username ='python2023'\n",
    "define_password='Abc1000'  \n",
    "username=input('Please enter username:  ')\n",
    "password=input('Please enter password:  ')\n",
    "if username ==define_username and password==define_password:\n",
    "      print(' welcome our cite! ')\n",
    "elif username!=define_username and password!=define_password :\n",
    "    print(' the entered information is wrong ')\n",
    "elif  username !=define_username:\n",
    "    print('“The username entered is wrong')\n",
    "else :\n",
    "    print('The entered password is wrong')"
   ]
  },
  {
   "cell_type": "code",
   "execution_count": null,
   "id": "dc1b1701",
   "metadata": {},
   "outputs": [],
   "source": []
  }
 ],
 "metadata": {
  "kernelspec": {
   "display_name": "Python 3 (ipykernel)",
   "language": "python",
   "name": "python3"
  },
  "language_info": {
   "codemirror_mode": {
    "name": "ipython",
    "version": 3
   },
   "file_extension": ".py",
   "mimetype": "text/x-python",
   "name": "python",
   "nbconvert_exporter": "python",
   "pygments_lexer": "ipython3",
   "version": "3.9.13"
  }
 },
 "nbformat": 4,
 "nbformat_minor": 5
}
