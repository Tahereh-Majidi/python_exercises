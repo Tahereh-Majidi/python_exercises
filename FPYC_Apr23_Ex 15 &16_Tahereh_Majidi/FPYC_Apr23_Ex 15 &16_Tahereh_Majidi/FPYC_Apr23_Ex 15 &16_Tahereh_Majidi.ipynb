{
 "cells": [
  {
   "attachments": {},
   "cell_type": "markdown",
   "metadata": {},
   "source": [
    "<div>\n",
    "<h2 style=\"background-color:Purple;text-align:center;border-radius:40px;border: 1px;padding: 20px; color:white\"><b>Filoger Hands On Prerequisite Python For AI <br>Exercises 15 & 16 | Deadline: 2023 07 June <br> Score: 1200</h2>\n",
    "</div>"
   ]
  },
  {
   "attachments": {},
   "cell_type": "markdown",
   "metadata": {},
   "source": [
    "# Name"
   ]
  },
  {
   "cell_type": "code",
   "execution_count": 11,
   "metadata": {},
   "outputs": [],
   "source": [
    "# Tahereh, Majidi"
   ]
  },
  {
   "attachments": {},
   "cell_type": "markdown",
   "metadata": {},
   "source": [
    "<h3 style=\"background-color:#ff3300\n",
    ";text-align:center;border-radius:40px;border: 1px;padding: 10px;color:white\"><b>Exercises 15<br>Score: 800</h3>"
   ]
  },
  {
   "attachments": {},
   "cell_type": "markdown",
   "metadata": {},
   "source": [
    "<h5 style=\"background-color:#B100C2;text-align:left;border-radius:40px;border: 1px;padding: 10px;color:white\"><b>A- Write the school management project as follows.</h5>"
   ]
  },
  {
   "attachments": {},
   "cell_type": "markdown",
   "metadata": {},
   "source": [
    "<h6 style=\"background-color:#1765e3;text-align:left;border-radius:40px;border: 1px;padding: 10px;color:white\"><b>1. The project includes two classes, school class and student class</h6>"
   ]
  },
  {
   "cell_type": "code",
   "execution_count": null,
   "metadata": {},
   "outputs": [],
   "source": [
    "class Student:\n",
    "    def __init__(self,s_number,f_name,_l_name,age,grade):\n",
    "        self.student_number=s_number\n",
    "        self.first_name=f_name\n",
    "        self.last_name=_l_name\n",
    "        self.age=age\n",
    "        self.grade=grade\n",
    "        \n",
    "    def get_name(self):\n",
    "        # print(f\"name of student: {self.first_name}\")   \n",
    "        return self.first_name\n",
    "    \n",
    "    def get_all_info(self):\n",
    "        print(f\"The number_student  is: {self.student_number}\")\n",
    "        print(f\"The first_name  is: {self.first_name}\")\n",
    "        print(f\"The last_name  is: {self.last_name}\")   \n",
    "        print(f\"The age  is: {self.age}\")\n",
    "        print(f\"The grade are : {self.grade}\")\n",
    "        print(\"-\"*50)  \n",
    "    "
   ]
  },
  {
   "attachments": {},
   "cell_type": "markdown",
   "metadata": {},
   "source": [
    "<h6 style=\"background-color:#1765e3;text-align:left;border-radius:40px;border: 1px;padding: 10px;color:white\"><b>2. The school class contains two main attributes, a list to store students and a variable to specify\n",
    "the maximum number of students in the school</h6>"
   ]
  },
  {
   "cell_type": "code",
   "execution_count": null,
   "metadata": {},
   "outputs": [],
   "source": [
    "\n",
    "from students import *\n",
    "class School:\n",
    "    def __init__(self,m_students):\n",
    "        self.students=[]\n",
    "        self.max_students=m_students\n",
    "\n",
    "    def find_index(self,id_number) :\n",
    "        for i,item in enumerate(self.students):\n",
    "            if item.student_number==id_number:\n",
    "                return i\n",
    "        return -1\n",
    "\n",
    "    def add_student(self,student):\n",
    "        index=self.find_index(student.student_number)\n",
    "        if index==-1:\n",
    "            if len(self.students) < self.max_students:\n",
    "                self.students.append(student)\n",
    "                print(\"added to the class\")\n",
    "            else:\n",
    "                print(\"Sorry, the class is full.\")    \n",
    "        else:\n",
    "            print(f\"student with  number student ={student.student_number} exist\")    \n",
    "\n",
    "    def display(self):\n",
    "        l=len(self.students)\n",
    "        if l==0:\n",
    "            print(\"Empty\")\n",
    "            return\n",
    "        for s in self.students:\n",
    "            s.get_all_info()   \n",
    "\n",
    "    def search(self,name):\n",
    "        found_students = []\n",
    "        for s in self.students:\n",
    "            if s.get_name()==name:\n",
    "                found_students.append(s)\n",
    "        if len(found_students) == 0:\n",
    "            print(f\"No students with name {name} found in the class.\")\n",
    "        else:\n",
    "            print(f\"Found {len(found_students)} students with name {name}:\")\n",
    "            for fs in found_students:\n",
    "                fs.get_all_info()    \n",
    "        return found_students\n",
    "        \n",
    "    def edit(self,id_number):\n",
    "          index=self.find_index(id_number)     \n",
    "          if index!=-1:\n",
    "            new_info=input(\"first_name,last_name,age,scores: \")\n",
    "            info=new_info.split(\",\")\n",
    "            self.students[index].first_name=info[0] or self.students[index].first_name\n",
    "            self.students[index].last_name=info[1] or self.students[index].last_name\n",
    "            self.students[index].age=info[2] or  self.students[index].age\n",
    "            self.students[index].grade=info[3] or  self.students[index].grade\n",
    "            #self.students[index].scores=self.students[index].scores.split()\n",
    "            print(\"edited\")    \n",
    "          else:\n",
    "             print(\"not found!\")  \n",
    "    def remove(self,id_number): \n",
    "        index=self.find_index(id_number) \n",
    "        if index!=-1:\n",
    "             self.students.pop(index)\n",
    "             print(\"remove\")\n",
    "        else:\n",
    "             print(\"not found\")\n",
    "                     "
   ]
  },
  {
   "attachments": {},
   "cell_type": "markdown",
   "metadata": {},
   "source": [
    "<h6 style=\"background-color:#1765e3;text-align:left;border-radius:40px;border: 1px;padding: 10px;color:white\"><b>3. The students class must contain at least four attributes.</h6>"
   ]
  },
  {
   "cell_type": "code",
   "execution_count": null,
   "metadata": {},
   "outputs": [],
   "source": [
    "from students import *\n",
    "from school import *\n",
    "if __name__== \"__main__\":\n",
    "    #create an obj\n",
    "    obj1=School(100)\n",
    "    while True: \n",
    "        user=input(\"Please select an option:  add/remove/edit/search/display/exit :   \")\n",
    "        user=user.lower()\n",
    "        if user==\"add\":\n",
    "            student_info=input(\"Enter info of your student: \")\n",
    "            info=student_info.split()\n",
    "            s1=Student(info[0],info[1],info[2],info[3],info[4])\n",
    "            obj1.add_student(s1)\n",
    "        elif user==\"remove\":\n",
    "            id_number=input(\"Enter a id_number to remove: \")\n",
    "            obj1.remove(id_number)\n",
    "        elif user==\"edit\":\n",
    "            id_number=input(\"Enter a id_number to edit: \")\n",
    "            obj1.edit(id_number)\n",
    "        elif user==\"search\":\n",
    "            name=input(\"Enter a name to search: \")\n",
    "            obj1.search(name)\n",
    "        elif user==\"display\":\n",
    "            obj1.display()     \n",
    "        elif user==\"\":\n",
    "            pass\n",
    "        elif user==\"exit\":\n",
    "            break\n",
    "        else:\n",
    "            print(f\"{user}: command not found!\") "
   ]
  },
  {
   "attachments": {},
   "cell_type": "markdown",
   "metadata": {},
   "source": [
    "<h6 style=\"background-color:#1765e3;text-align:left;border-radius:40px;border: 1px;padding: 10px;color:white\"><b>4. One of the attribute of each student is the student number, which we do not have duplicates.</h6>"
   ]
  },
  {
   "cell_type": "code",
   "execution_count": null,
   "metadata": {},
   "outputs": [],
   "source": []
  },
  {
   "attachments": {},
   "cell_type": "markdown",
   "metadata": {},
   "source": [
    "<h6 style=\"background-color:#1765e3;text-align:left;border-radius:40px;border: 1px;padding: 10px;color:white\"><b>5. In this project, we should be able to display the operations of adding, deleting, editing,\n",
    "displaying the information of all students and searching for students in the school.</h6>"
   ]
  },
  {
   "cell_type": "code",
   "execution_count": null,
   "metadata": {},
   "outputs": [],
   "source": []
  },
  {
   "attachments": {},
   "cell_type": "markdown",
   "metadata": {},
   "source": [
    "<h6 style=\"background-color:#1765e3;text-align:left;border-radius:40px;border: 1px;padding: 10px;color:white\"><b>6. Searching should be based on name (if there are multiple students with the same name, all of\n",
    "them will be displayed)</h6>"
   ]
  },
  {
   "cell_type": "code",
   "execution_count": null,
   "metadata": {},
   "outputs": [],
   "source": []
  },
  {
   "attachments": {},
   "cell_type": "markdown",
   "metadata": {},
   "source": [
    "<h6 style=\"background-color:#1765e3;text-align:left;border-radius:40px;border: 1px;padding: 10px;color:white\"><b>7. The program should continue until the user enters \"exit\".</h6>"
   ]
  },
  {
   "cell_type": "code",
   "execution_count": null,
   "metadata": {},
   "outputs": [],
   "source": []
  },
  {
   "attachments": {},
   "cell_type": "markdown",
   "metadata": {},
   "source": [
    "<h3 style=\"background-color:#ff3300\n",
    ";text-align:center;border-radius:40px;border: 1px;padding: 10px;color:white\"><b>Exercise 16<br>Score: 400</h3>"
   ]
  },
  {
   "attachments": {},
   "cell_type": "markdown",
   "metadata": {},
   "source": [
    "<h5 style=\"background-color:#B100C2;text-align:left;border-radius:40px;border: 1px;padding: 10px;color:white\"><b>Write sample codes for Inheritance, Encapsulation, Polymorphism, and\n",
    "Abstraction in Object-Oriented Programming.</h5>"
   ]
  },
  {
   "attachments": {},
   "cell_type": "markdown",
   "metadata": {},
   "source": [
    "### Inheritance"
   ]
  },
  {
   "cell_type": "code",
   "execution_count": 1,
   "metadata": {},
   "outputs": [
    {
     "name": "stdout",
     "output_type": "stream",
     "text": [
      "lolo says Mooo!\n",
      "yoyo says Meow!\n"
     ]
    }
   ],
   "source": [
    "class Animal:\n",
    "    def __init__(self, name):\n",
    "        self.name = name\n",
    "\n",
    "    def speak(self):\n",
    "        pass\n",
    "\n",
    "class Cow(Animal):\n",
    "    def speak(self):\n",
    "        return \"Mooo!\"\n",
    "\n",
    "class Cat(Animal):\n",
    "    def speak(self):\n",
    "        return \"Meow!\"\n",
    "\n",
    "cow = Cow(\"lolo\")\n",
    "cat = Cat(\"yoyo\")\n",
    "\n",
    "print(cow.name + \" says \" + cow.speak())\n",
    "print(cat.name + \" says \" + cat.speak())"
   ]
  },
  {
   "attachments": {},
   "cell_type": "markdown",
   "metadata": {},
   "source": [
    "### Encapsulation"
   ]
  },
  {
   "cell_type": "code",
   "execution_count": 2,
   "metadata": {},
   "outputs": [
    {
     "name": "stdout",
     "output_type": "stream",
     "text": [
      "1300\n"
     ]
    }
   ],
   "source": [
    "class BankAccount:\n",
    "    def __init__(self, account_number, balance):\n",
    "        self.__account_number = account_number\n",
    "        self.__balance = balance\n",
    "\n",
    "    def deposit(self, amount):\n",
    "        self.__balance += amount\n",
    "\n",
    "    def withdraw(self, amount):\n",
    "        if amount > self.__balance:\n",
    "            print(\"Insufficient balance\")\n",
    "        else:\n",
    "            self.__balance -= amount\n",
    "\n",
    "    def get_balance(self):\n",
    "        return self.__balance\n",
    "\n",
    "account = BankAccount(\"123456789\", 1000)\n",
    "\n",
    "# Trying to access private attributes directly will raise an AttributeError\n",
    "# print(account.__balance)  # This will raise an AttributeError\n",
    "\n",
    "# Instead, we would need to use the public methods of the class to interact with the private attributes\n",
    "account.deposit(500)\n",
    "account.withdraw(200)\n",
    "\n",
    "print(account.get_balance())"
   ]
  },
  {
   "attachments": {},
   "cell_type": "markdown",
   "metadata": {},
   "source": [
    "### Polymorphism "
   ]
  },
  {
   "cell_type": "code",
   "execution_count": 3,
   "metadata": {},
   "outputs": [
    {
     "name": "stdout",
     "output_type": "stream",
     "text": [
      "Buddy says Woof!\n",
      "Whiskers says Meow!\n"
     ]
    }
   ],
   "source": [
    "class Animal:\n",
    "    def __init__(self, name):\n",
    "        self.name = name\n",
    "\n",
    "    def speak(self):\n",
    "        pass\n",
    "\n",
    "class Dog(Animal):\n",
    "    def speak(self):\n",
    "        return \"Woof!\"\n",
    "\n",
    "class Cat(Animal):\n",
    "    def speak(self):\n",
    "        return \"Meow!\"\n",
    "\n",
    "def make_animal_speak(animal):\n",
    "    print(animal.name + \" says \" + animal.speak())\n",
    "\n",
    "dog = Dog(\"Buddy\")\n",
    "cat = Cat(\"Whiskers\")\n",
    "\n",
    "make_animal_speak(dog)\n",
    "make_animal_speak(cat)"
   ]
  },
  {
   "attachments": {},
   "cell_type": "markdown",
   "metadata": {},
   "source": [
    "### Abstraction"
   ]
  },
  {
   "cell_type": "code",
   "execution_count": 4,
   "metadata": {},
   "outputs": [
    {
     "name": "stdout",
     "output_type": "stream",
     "text": [
      "Area of shape: 50\n",
      "Area of shape: 28.26\n"
     ]
    }
   ],
   "source": [
    "from abc import ABC, abstractmethod\n",
    "\n",
    "class Shape(ABC):\n",
    "    @abstractmethod\n",
    "    def area(self):\n",
    "        pass\n",
    "\n",
    "class Rectangle(Shape):\n",
    "    def __init__(self, length, width):\n",
    "        self.length = length\n",
    "        self.width = width\n",
    "\n",
    "    def area(self):\n",
    "        return self.length * self.width\n",
    "\n",
    "class Circle(Shape):\n",
    "    def __init__(self, radius):\n",
    "        self.radius = radius\n",
    "\n",
    "    def area(self):\n",
    "        return 3.14 * self.radius ** 2\n",
    "\n",
    "shapes = [Rectangle(5, 10), Circle(3)]\n",
    "\n",
    "for shape in shapes:\n",
    "    print(\"Area of shape:\", shape.area())"
   ]
  },
  {
   "cell_type": "code",
   "execution_count": null,
   "metadata": {},
   "outputs": [],
   "source": []
  }
 ],
 "metadata": {
  "kernelspec": {
   "display_name": "Python 3 (ipykernel)",
   "language": "python",
   "name": "python3"
  },
  "language_info": {
   "codemirror_mode": {
    "name": "ipython",
    "version": 3
   },
   "file_extension": ".py",
   "mimetype": "text/x-python",
   "name": "python",
   "nbconvert_exporter": "python",
   "pygments_lexer": "ipython3",
   "version": "3.9.13"
  }
 },
 "nbformat": 4,
 "nbformat_minor": 4
}
