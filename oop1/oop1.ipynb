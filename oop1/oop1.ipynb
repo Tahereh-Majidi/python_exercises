{
 "cells": [
  {
   "cell_type": "code",
   "execution_count": 28,
   "metadata": {},
   "outputs": [],
   "source": [
    "class Student :\n",
    "    def __init__(self,first_name,last_name,scores,student_num ):\n",
    "        self.first_name=first_name\n",
    "        self.last_name=last_name\n",
    "        self.score=scores\n",
    "        self.student_num=student_num\n",
    "\n",
    "    def fun1(self):  #method\n",
    "       print(\"student\")\n",
    "\n"
   ]
  },
  {
   "cell_type": "code",
   "execution_count": 30,
   "metadata": {},
   "outputs": [
    {
     "name": "stdout",
     "output_type": "stream",
     "text": [
      "student\n"
     ]
    }
   ],
   "source": [
    "#obj1\n",
    "s1=Student(\"A\",\"B\",16,\"123s\")\n",
    "s1.first_name\n",
    "s1.score\n",
    "s1.fun1()"
   ]
  },
  {
   "cell_type": "code",
   "execution_count": 19,
   "metadata": {},
   "outputs": [
    {
     "data": {
      "text/plain": [
       "'1254s'"
      ]
     },
     "execution_count": 19,
     "metadata": {},
     "output_type": "execute_result"
    }
   ],
   "source": [
    "#obj2\n",
    "s2=Student(\"A2\",\"B2\",14,\"1254s\")\n",
    "s2.first_name\n",
    "s2.student_num"
   ]
  },
  {
   "cell_type": "code",
   "execution_count": 12,
   "metadata": {},
   "outputs": [
    {
     "name": "stdout",
     "output_type": "stream",
     "text": [
      "[<__main__.Student object at 0x0000009603ACF490>, <__main__.Student object at 0x0000009604750490>]\n",
      "2\n"
     ]
    }
   ],
   "source": [
    "students=[]\n",
    "for i in range(2):\n",
    "    first_name=input(\"Enter name:   \")\n",
    "    last_name=input(\"Enter last_name:   \")\n",
    "    score=float(input(\"Enter score:   \"))\n",
    "    stu_num=input(\"Enter stu_num:   \")\n",
    "    obj=Student(first_name,last_name,score,stu_num)\n",
    "    students.append(obj)\n",
    "print(students)    \n",
    "print(len(students))\n"
   ]
  },
  {
   "cell_type": "code",
   "execution_count": 17,
   "metadata": {},
   "outputs": [
    {
     "data": {
      "text/plain": [
       "'ahadi'"
      ]
     },
     "execution_count": 17,
     "metadata": {},
     "output_type": "execute_result"
    }
   ],
   "source": [
    "students[1].last_name\n"
   ]
  },
  {
   "cell_type": "code",
   "execution_count": 18,
   "metadata": {},
   "outputs": [
    {
     "data": {
      "text/plain": [
       "19.0"
      ]
     },
     "execution_count": 18,
     "metadata": {},
     "output_type": "execute_result"
    }
   ],
   "source": [
    "students[0].score"
   ]
  },
  {
   "cell_type": "code",
   "execution_count": 38,
   "metadata": {},
   "outputs": [],
   "source": [
    "class Counter:\n",
    "    def __init__(self):\n",
    "        self.count=0\n",
    "    def incerement(self):\n",
    "          self.count+=5  \n",
    "          print(f\"Count is {self.count}\")\n",
    "    def decrement(self):\n",
    "         self.count-=1\n",
    "         print(f\"Count is {self.count}\")      \n",
    "    def  reset(self):\n",
    "         self.count=0\n",
    "         print(f\"Count is {self.count}\")         \n"
   ]
  },
  {
   "cell_type": "code",
   "execution_count": 46,
   "metadata": {},
   "outputs": [
    {
     "name": "stdout",
     "output_type": "stream",
     "text": [
      "Count is 5\n",
      "Count is 4\n"
     ]
    }
   ],
   "source": [
    "obj1=Counter()\n",
    "obj1.incerement()\n",
    "obj1.decrement()\n"
   ]
  },
  {
   "cell_type": "code",
   "execution_count": 47,
   "metadata": {},
   "outputs": [
    {
     "data": {
      "text/plain": [
       "4"
      ]
     },
     "execution_count": 47,
     "metadata": {},
     "output_type": "execute_result"
    }
   ],
   "source": [
    "obj1.count"
   ]
  },
  {
   "cell_type": "code",
   "execution_count": 44,
   "metadata": {},
   "outputs": [
    {
     "name": "stdout",
     "output_type": "stream",
     "text": [
      "Count is 5\n",
      "Count is 0\n"
     ]
    }
   ],
   "source": [
    "obj2=Counter()\n",
    "obj2.incerement()\n",
    "obj2.reset()"
   ]
  },
  {
   "cell_type": "code",
   "execution_count": 45,
   "metadata": {},
   "outputs": [
    {
     "data": {
      "text/plain": [
       "0"
      ]
     },
     "execution_count": 45,
     "metadata": {},
     "output_type": "execute_result"
    }
   ],
   "source": [
    "obj2.count"
   ]
  }
 ],
 "metadata": {
  "kernelspec": {
   "display_name": "base",
   "language": "python",
   "name": "python3"
  },
  "language_info": {
   "codemirror_mode": {
    "name": "ipython",
    "version": 3
   },
   "file_extension": ".py",
   "mimetype": "text/x-python",
   "name": "python",
   "nbconvert_exporter": "python",
   "pygments_lexer": "ipython3",
   "version": "3.9.13"
  },
  "orig_nbformat": 4
 },
 "nbformat": 4,
 "nbformat_minor": 2
}
